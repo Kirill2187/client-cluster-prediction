{
 "cells": [
  {
   "cell_type": "code",
   "execution_count": 1,
   "metadata": {},
   "outputs": [],
   "source": [
    "import pandas as pd\n",
    "import numpy as np\n",
    "import matplotlib.pyplot as plt\n",
    "import seaborn as sns"
   ]
  },
  {
   "cell_type": "code",
   "execution_count": 2,
   "metadata": {},
   "outputs": [
    {
     "name": "stdout",
     "output_type": "stream",
     "text": [
      "<class 'pandas.core.frame.DataFrame'>\n",
      "RangeIndex: 600000 entries, 0 to 599999\n",
      "Data columns (total 93 columns):\n",
      " #   Column                   Non-Null Count   Dtype  \n",
      "---  ------                   --------------   -----  \n",
      " 0   id                       600000 non-null  Int64  \n",
      " 1   date                     600000 non-null  string \n",
      " 2   balance_amt_avg          534423 non-null  Float64\n",
      " 3   balance_amt_max          534423 non-null  Float64\n",
      " 4   balance_amt_min          534423 non-null  Float64\n",
      " 5   balance_amt_day_avg      534423 non-null  Float64\n",
      " 6   channel_code             557150 non-null  string \n",
      " 7   city                     521656 non-null  string \n",
      " 8   city_type                521656 non-null  string \n",
      " 9   index_city_code          274776 non-null  string \n",
      " 10  ogrn_days_end_month      568527 non-null  Float64\n",
      " 11  ogrn_days_end_quarter    568527 non-null  Float64\n",
      " 12  ogrn_month               568527 non-null  string \n",
      " 13  ogrn_year                568527 non-null  string \n",
      " 14  ft_registration_date     568640 non-null  Float64\n",
      " 15  max_founderpres          264408 non-null  Float64\n",
      " 16  min_founderpres          264408 non-null  Float64\n",
      " 17  ogrn_exist_months        568527 non-null  Float64\n",
      " 18  okved                    568107 non-null  string \n",
      " 19  segment                  569849 non-null  string \n",
      " 20  sum_of_paym_2m           451116 non-null  Float64\n",
      " 21  sum_of_paym_6m           451116 non-null  Float64\n",
      " 22  sum_of_paym_1y           451116 non-null  Float64\n",
      " 23  sum_a_oper_1m            600000 non-null  Float64\n",
      " 24  cnt_a_oper_1m            403819 non-null  Float64\n",
      " 25  sum_b_oper_1m            600000 non-null  Float64\n",
      " 26  cnt_b_oper_1m            403819 non-null  Float64\n",
      " 27  sum_c_oper_1m            600000 non-null  Float64\n",
      " 28  cnt_c_oper_1m            403819 non-null  Float64\n",
      " 29  sum_deb_d_oper_1m        600000 non-null  Float64\n",
      " 30  cnt_deb_d_oper_1m        403819 non-null  Float64\n",
      " 31  sum_cred_d_oper_1m       600000 non-null  Float64\n",
      " 32  cnt_cred_d_oper_1m       403819 non-null  Float64\n",
      " 33  sum_deb_e_oper_1m        600000 non-null  Float64\n",
      " 34  cnt_deb_e_oper_1m        403819 non-null  Float64\n",
      " 35  cnt_days_deb_e_oper_1m   403819 non-null  Float64\n",
      " 36  sum_cred_e_oper_1m       600000 non-null  Float64\n",
      " 37  cnt_cred_e_oper_1m       403819 non-null  Float64\n",
      " 38  cnt_days_cred_e_oper_1m  403819 non-null  Float64\n",
      " 39  sum_deb_f_oper_1m        600000 non-null  Float64\n",
      " 40  cnt_deb_f_oper_1m        403819 non-null  Float64\n",
      " 41  cnt_days_deb_f_oper_1m   403819 non-null  Float64\n",
      " 42  sum_cred_f_oper_1m       600000 non-null  Float64\n",
      " 43  cnt_cred_f_oper_1m       403819 non-null  Float64\n",
      " 44  cnt_days_cred_f_oper_1m  403819 non-null  Float64\n",
      " 45  sum_deb_g_oper_1m        600000 non-null  Float64\n",
      " 46  cnt_deb_g_oper_1m        403819 non-null  Float64\n",
      " 47  cnt_days_deb_g_oper_1m   403819 non-null  Float64\n",
      " 48  sum_cred_g_oper_1m       600000 non-null  Float64\n",
      " 49  cnt_cred_g_oper_1m       403819 non-null  Float64\n",
      " 50  cnt_days_cred_g_oper_1m  403819 non-null  Float64\n",
      " 51  sum_deb_h_oper_1m        600000 non-null  Float64\n",
      " 52  cnt_deb_h_oper_1m        403819 non-null  Float64\n",
      " 53  cnt_days_deb_h_oper_1m   403819 non-null  Float64\n",
      " 54  sum_cred_h_oper_1m       600000 non-null  Float64\n",
      " 55  cnt_cred_h_oper_1m       403819 non-null  Float64\n",
      " 56  cnt_days_cred_h_oper_1m  403819 non-null  Float64\n",
      " 57  sum_a_oper_3m            600000 non-null  Float64\n",
      " 58  cnt_a_oper_3m            434748 non-null  Float64\n",
      " 59  sum_b_oper_3m            600000 non-null  Float64\n",
      " 60  cnt_b_oper_3m            434748 non-null  Float64\n",
      " 61  sum_c_oper_3m            600000 non-null  Float64\n",
      " 62  cnt_c_oper_3m            434748 non-null  Float64\n",
      " 63  sum_deb_d_oper_3m        600000 non-null  Float64\n",
      " 64  cnt_deb_d_oper_3m        434748 non-null  Float64\n",
      " 65  sum_cred_d_oper_3m       600000 non-null  Float64\n",
      " 66  cnt_cred_d_oper_3m       434748 non-null  Float64\n",
      " 67  sum_deb_e_oper_3m        600000 non-null  Float64\n",
      " 68  cnt_deb_e_oper_3m        434748 non-null  Float64\n",
      " 69  cnt_days_deb_e_oper_3m   434748 non-null  Float64\n",
      " 70  sum_cred_e_oper_3m       600000 non-null  Float64\n",
      " 71  cnt_cred_e_oper_3m       434748 non-null  Float64\n",
      " 72  cnt_days_cred_e_oper_3m  434748 non-null  Float64\n",
      " 73  sum_deb_f_oper_3m        600000 non-null  Float64\n",
      " 74  cnt_deb_f_oper_3m        434748 non-null  Float64\n",
      " 75  cnt_days_deb_f_oper_3m   434748 non-null  Float64\n",
      " 76  sum_cred_f_oper_3m       600000 non-null  Float64\n",
      " 77  cnt_cred_f_oper_3m       434748 non-null  Float64\n",
      " 78  cnt_days_cred_f_oper_3m  434748 non-null  Float64\n",
      " 79  sum_deb_g_oper_3m        600000 non-null  Float64\n",
      " 80  cnt_deb_g_oper_3m        434748 non-null  Float64\n",
      " 81  cnt_days_deb_g_oper_3m   434748 non-null  Float64\n",
      " 82  sum_cred_g_oper_3m       600000 non-null  Float64\n",
      " 83  cnt_cred_g_oper_3m       434748 non-null  Float64\n",
      " 84  cnt_days_cred_g_oper_3m  434748 non-null  Float64\n",
      " 85  sum_deb_h_oper_3m        600000 non-null  Float64\n",
      " 86  cnt_deb_h_oper_3m        434748 non-null  Float64\n",
      " 87  cnt_days_deb_h_oper_3m   434748 non-null  Float64\n",
      " 88  sum_cred_h_oper_3m       600000 non-null  Float64\n",
      " 89  cnt_cred_h_oper_3m       434748 non-null  Float64\n",
      " 90  cnt_days_cred_h_oper_3m  434748 non-null  Float64\n",
      " 91  start_cluster            600000 non-null  string \n",
      " 92  end_cluster              600000 non-null  string \n",
      "dtypes: Float64(81), Int64(1), string(11)\n",
      "memory usage: 472.6 MB\n"
     ]
    }
   ],
   "source": [
    "train = pd.read_parquet('data/train_data.pqt')\n",
    "train = train.convert_dtypes()\n",
    "train.info()"
   ]
  },
  {
   "cell_type": "code",
   "execution_count": 3,
   "metadata": {},
   "outputs": [
    {
     "data": {
      "text/html": [
       "<div>\n",
       "<style scoped>\n",
       "    .dataframe tbody tr th:only-of-type {\n",
       "        vertical-align: middle;\n",
       "    }\n",
       "\n",
       "    .dataframe tbody tr th {\n",
       "        vertical-align: top;\n",
       "    }\n",
       "\n",
       "    .dataframe thead th {\n",
       "        text-align: right;\n",
       "    }\n",
       "</style>\n",
       "<table border=\"1\" class=\"dataframe\">\n",
       "  <thead>\n",
       "    <tr style=\"text-align: right;\">\n",
       "      <th></th>\n",
       "      <th>id</th>\n",
       "      <th>balance_amt_avg</th>\n",
       "      <th>balance_amt_max</th>\n",
       "      <th>balance_amt_min</th>\n",
       "      <th>balance_amt_day_avg</th>\n",
       "      <th>ogrn_days_end_month</th>\n",
       "      <th>ogrn_days_end_quarter</th>\n",
       "      <th>ft_registration_date</th>\n",
       "      <th>max_founderpres</th>\n",
       "      <th>min_founderpres</th>\n",
       "      <th>...</th>\n",
       "      <th>cnt_days_deb_g_oper_3m</th>\n",
       "      <th>sum_cred_g_oper_3m</th>\n",
       "      <th>cnt_cred_g_oper_3m</th>\n",
       "      <th>cnt_days_cred_g_oper_3m</th>\n",
       "      <th>sum_deb_h_oper_3m</th>\n",
       "      <th>cnt_deb_h_oper_3m</th>\n",
       "      <th>cnt_days_deb_h_oper_3m</th>\n",
       "      <th>sum_cred_h_oper_3m</th>\n",
       "      <th>cnt_cred_h_oper_3m</th>\n",
       "      <th>cnt_days_cred_h_oper_3m</th>\n",
       "    </tr>\n",
       "  </thead>\n",
       "  <tbody>\n",
       "    <tr>\n",
       "      <th>count</th>\n",
       "      <td>600000.0</td>\n",
       "      <td>534423.0</td>\n",
       "      <td>534423.0</td>\n",
       "      <td>534423.0</td>\n",
       "      <td>534423.0</td>\n",
       "      <td>568527.0</td>\n",
       "      <td>568527.0</td>\n",
       "      <td>568640.0</td>\n",
       "      <td>264408.0</td>\n",
       "      <td>264408.0</td>\n",
       "      <td>...</td>\n",
       "      <td>434748.0</td>\n",
       "      <td>600000.0</td>\n",
       "      <td>434748.0</td>\n",
       "      <td>434748.0</td>\n",
       "      <td>600000.0</td>\n",
       "      <td>434748.0</td>\n",
       "      <td>434748.0</td>\n",
       "      <td>600000.0</td>\n",
       "      <td>434748.0</td>\n",
       "      <td>434748.0</td>\n",
       "    </tr>\n",
       "    <tr>\n",
       "      <th>mean</th>\n",
       "      <td>99999.5</td>\n",
       "      <td>-0.0</td>\n",
       "      <td>-0.0</td>\n",
       "      <td>-0.0</td>\n",
       "      <td>-0.0</td>\n",
       "      <td>-0.0</td>\n",
       "      <td>-0.0</td>\n",
       "      <td>0.0</td>\n",
       "      <td>0.0</td>\n",
       "      <td>-0.0</td>\n",
       "      <td>...</td>\n",
       "      <td>0.810852</td>\n",
       "      <td>0.0</td>\n",
       "      <td>0.946172</td>\n",
       "      <td>0.41092</td>\n",
       "      <td>0.0</td>\n",
       "      <td>0.551292</td>\n",
       "      <td>0.507565</td>\n",
       "      <td>0.0</td>\n",
       "      <td>0.255424</td>\n",
       "      <td>0.456226</td>\n",
       "    </tr>\n",
       "    <tr>\n",
       "      <th>std</th>\n",
       "      <td>57735.075031</td>\n",
       "      <td>1.000001</td>\n",
       "      <td>1.000001</td>\n",
       "      <td>1.000001</td>\n",
       "      <td>1.000001</td>\n",
       "      <td>1.000001</td>\n",
       "      <td>1.000001</td>\n",
       "      <td>1.000001</td>\n",
       "      <td>1.000002</td>\n",
       "      <td>1.000002</td>\n",
       "      <td>...</td>\n",
       "      <td>0.145072</td>\n",
       "      <td>1.000001</td>\n",
       "      <td>0.011519</td>\n",
       "      <td>0.080259</td>\n",
       "      <td>1.000001</td>\n",
       "      <td>0.014255</td>\n",
       "      <td>0.156156</td>\n",
       "      <td>1.000001</td>\n",
       "      <td>0.01732</td>\n",
       "      <td>0.136101</td>\n",
       "    </tr>\n",
       "    <tr>\n",
       "      <th>min</th>\n",
       "      <td>0.0</td>\n",
       "      <td>-0.156778</td>\n",
       "      <td>-0.204962</td>\n",
       "      <td>-0.125995</td>\n",
       "      <td>-0.156315</td>\n",
       "      <td>-1.649833</td>\n",
       "      <td>-1.722458</td>\n",
       "      <td>-1.081749</td>\n",
       "      <td>-1.149405</td>\n",
       "      <td>-1.075208</td>\n",
       "      <td>...</td>\n",
       "      <td>0.728507</td>\n",
       "      <td>-0.028584</td>\n",
       "      <td>0.944497</td>\n",
       "      <td>0.384773</td>\n",
       "      <td>-0.165588</td>\n",
       "      <td>0.546889</td>\n",
       "      <td>0.407687</td>\n",
       "      <td>-0.201132</td>\n",
       "      <td>0.250924</td>\n",
       "      <td>0.37454</td>\n",
       "    </tr>\n",
       "    <tr>\n",
       "      <th>25%</th>\n",
       "      <td>49999.75</td>\n",
       "      <td>-0.156093</td>\n",
       "      <td>-0.204276</td>\n",
       "      <td>-0.125912</td>\n",
       "      <td>-0.155653</td>\n",
       "      <td>-0.836937</td>\n",
       "      <td>-0.870685</td>\n",
       "      <td>-0.756218</td>\n",
       "      <td>-0.760881</td>\n",
       "      <td>-0.766869</td>\n",
       "      <td>...</td>\n",
       "      <td>0.728507</td>\n",
       "      <td>-0.028584</td>\n",
       "      <td>0.944497</td>\n",
       "      <td>0.384773</td>\n",
       "      <td>-0.165588</td>\n",
       "      <td>0.546889</td>\n",
       "      <td>0.407687</td>\n",
       "      <td>-0.201123</td>\n",
       "      <td>0.250924</td>\n",
       "      <td>0.37454</td>\n",
       "    </tr>\n",
       "    <tr>\n",
       "      <th>50%</th>\n",
       "      <td>99999.5</td>\n",
       "      <td>-0.149948</td>\n",
       "      <td>-0.19031</td>\n",
       "      <td>-0.12487</td>\n",
       "      <td>-0.149586</td>\n",
       "      <td>-0.024041</td>\n",
       "      <td>-0.018912</td>\n",
       "      <td>-0.31512</td>\n",
       "      <td>-0.276488</td>\n",
       "      <td>-0.296553</td>\n",
       "      <td>...</td>\n",
       "      <td>0.750485</td>\n",
       "      <td>-0.028584</td>\n",
       "      <td>0.944497</td>\n",
       "      <td>0.384773</td>\n",
       "      <td>-0.165588</td>\n",
       "      <td>0.547176</td>\n",
       "      <td>0.429909</td>\n",
       "      <td>-0.201123</td>\n",
       "      <td>0.251501</td>\n",
       "      <td>0.396518</td>\n",
       "    </tr>\n",
       "    <tr>\n",
       "      <th>75%</th>\n",
       "      <td>149999.25</td>\n",
       "      <td>-0.103378</td>\n",
       "      <td>-0.106326</td>\n",
       "      <td>-0.11248</td>\n",
       "      <td>-0.10332</td>\n",
       "      <td>0.788855</td>\n",
       "      <td>0.871577</td>\n",
       "      <td>0.404024</td>\n",
       "      <td>0.451993</td>\n",
       "      <td>0.455432</td>\n",
       "      <td>...</td>\n",
       "      <td>0.816419</td>\n",
       "      <td>-0.028584</td>\n",
       "      <td>0.944889</td>\n",
       "      <td>0.396267</td>\n",
       "      <td>-0.143618</td>\n",
       "      <td>0.549755</td>\n",
       "      <td>0.54102</td>\n",
       "      <td>-0.138444</td>\n",
       "      <td>0.254101</td>\n",
       "      <td>0.473441</td>\n",
       "    </tr>\n",
       "    <tr>\n",
       "      <th>max</th>\n",
       "      <td>199999.0</td>\n",
       "      <td>154.240651</td>\n",
       "      <td>117.495722</td>\n",
       "      <td>91.450771</td>\n",
       "      <td>154.719284</td>\n",
       "      <td>1.834007</td>\n",
       "      <td>1.800784</td>\n",
       "      <td>3.032875</td>\n",
       "      <td>3.376642</td>\n",
       "      <td>3.592823</td>\n",
       "      <td>...</td>\n",
       "      <td>1.728507</td>\n",
       "      <td>365.960327</td>\n",
       "      <td>1.944497</td>\n",
       "      <td>1.384773</td>\n",
       "      <td>247.459963</td>\n",
       "      <td>1.546889</td>\n",
       "      <td>1.407687</td>\n",
       "      <td>107.581823</td>\n",
       "      <td>1.250924</td>\n",
       "      <td>1.37454</td>\n",
       "    </tr>\n",
       "  </tbody>\n",
       "</table>\n",
       "<p>8 rows × 82 columns</p>\n",
       "</div>"
      ],
      "text/plain": [
       "                 id  balance_amt_avg  balance_amt_max  balance_amt_min  \\\n",
       "count      600000.0         534423.0         534423.0         534423.0   \n",
       "mean        99999.5             -0.0             -0.0             -0.0   \n",
       "std    57735.075031         1.000001         1.000001         1.000001   \n",
       "min             0.0        -0.156778        -0.204962        -0.125995   \n",
       "25%        49999.75        -0.156093        -0.204276        -0.125912   \n",
       "50%         99999.5        -0.149948         -0.19031         -0.12487   \n",
       "75%       149999.25        -0.103378        -0.106326         -0.11248   \n",
       "max        199999.0       154.240651       117.495722        91.450771   \n",
       "\n",
       "       balance_amt_day_avg  ogrn_days_end_month  ogrn_days_end_quarter  \\\n",
       "count             534423.0             568527.0               568527.0   \n",
       "mean                  -0.0                 -0.0                   -0.0   \n",
       "std               1.000001             1.000001               1.000001   \n",
       "min              -0.156315            -1.649833              -1.722458   \n",
       "25%              -0.155653            -0.836937              -0.870685   \n",
       "50%              -0.149586            -0.024041              -0.018912   \n",
       "75%               -0.10332             0.788855               0.871577   \n",
       "max             154.719284             1.834007               1.800784   \n",
       "\n",
       "       ft_registration_date  max_founderpres  min_founderpres  ...  \\\n",
       "count              568640.0         264408.0         264408.0  ...   \n",
       "mean                    0.0              0.0             -0.0  ...   \n",
       "std                1.000001         1.000002         1.000002  ...   \n",
       "min               -1.081749        -1.149405        -1.075208  ...   \n",
       "25%               -0.756218        -0.760881        -0.766869  ...   \n",
       "50%                -0.31512        -0.276488        -0.296553  ...   \n",
       "75%                0.404024         0.451993         0.455432  ...   \n",
       "max                3.032875         3.376642         3.592823  ...   \n",
       "\n",
       "       cnt_days_deb_g_oper_3m  sum_cred_g_oper_3m  cnt_cred_g_oper_3m  \\\n",
       "count                434748.0            600000.0            434748.0   \n",
       "mean                 0.810852                 0.0            0.946172   \n",
       "std                  0.145072            1.000001            0.011519   \n",
       "min                  0.728507           -0.028584            0.944497   \n",
       "25%                  0.728507           -0.028584            0.944497   \n",
       "50%                  0.750485           -0.028584            0.944497   \n",
       "75%                  0.816419           -0.028584            0.944889   \n",
       "max                  1.728507          365.960327            1.944497   \n",
       "\n",
       "       cnt_days_cred_g_oper_3m  sum_deb_h_oper_3m  cnt_deb_h_oper_3m  \\\n",
       "count                 434748.0           600000.0           434748.0   \n",
       "mean                   0.41092                0.0           0.551292   \n",
       "std                   0.080259           1.000001           0.014255   \n",
       "min                   0.384773          -0.165588           0.546889   \n",
       "25%                   0.384773          -0.165588           0.546889   \n",
       "50%                   0.384773          -0.165588           0.547176   \n",
       "75%                   0.396267          -0.143618           0.549755   \n",
       "max                   1.384773         247.459963           1.546889   \n",
       "\n",
       "       cnt_days_deb_h_oper_3m  sum_cred_h_oper_3m  cnt_cred_h_oper_3m  \\\n",
       "count                434748.0            600000.0            434748.0   \n",
       "mean                 0.507565                 0.0            0.255424   \n",
       "std                  0.156156            1.000001             0.01732   \n",
       "min                  0.407687           -0.201132            0.250924   \n",
       "25%                  0.407687           -0.201123            0.250924   \n",
       "50%                  0.429909           -0.201123            0.251501   \n",
       "75%                   0.54102           -0.138444            0.254101   \n",
       "max                  1.407687          107.581823            1.250924   \n",
       "\n",
       "       cnt_days_cred_h_oper_3m  \n",
       "count                 434748.0  \n",
       "mean                  0.456226  \n",
       "std                   0.136101  \n",
       "min                    0.37454  \n",
       "25%                    0.37454  \n",
       "50%                   0.396518  \n",
       "75%                   0.473441  \n",
       "max                    1.37454  \n",
       "\n",
       "[8 rows x 82 columns]"
      ]
     },
     "execution_count": 3,
     "metadata": {},
     "output_type": "execute_result"
    }
   ],
   "source": [
    "train.describe()"
   ]
  },
  {
   "cell_type": "code",
   "execution_count": 4,
   "metadata": {},
   "outputs": [
    {
     "data": {
      "text/plain": [
       "city\n",
       "city_0       86234\n",
       "city_14      39358\n",
       "city_21      16398\n",
       "city_6       15358\n",
       "city_22      11674\n",
       "             ...  \n",
       "city_5275        1\n",
       "city_8870        1\n",
       "city_8441        1\n",
       "city_8799        1\n",
       "city_8841        1\n",
       "Name: count, Length: 8917, dtype: Int64"
      ]
     },
     "execution_count": 4,
     "metadata": {},
     "output_type": "execute_result"
    }
   ],
   "source": [
    "train.city.value_counts()"
   ]
  },
  {
   "cell_type": "code",
   "execution_count": 5,
   "metadata": {},
   "outputs": [
    {
     "data": {
      "text/plain": [
       "segment\n",
       "segment_3    341965\n",
       "segment_0     91940\n",
       "segment_2     80996\n",
       "segment_1     54948\n",
       "Name: count, dtype: Int64"
      ]
     },
     "execution_count": 5,
     "metadata": {},
     "output_type": "execute_result"
    }
   ],
   "source": [
    "train.segment.value_counts()"
   ]
  },
  {
   "cell_type": "code",
   "execution_count": 6,
   "metadata": {},
   "outputs": [
    {
     "data": {
      "text/plain": [
       "start_cluster\n",
       "{α}          375947\n",
       "{}            78803\n",
       "{α, η}        43824\n",
       "{α, γ}        32790\n",
       "{other}       31813\n",
       "{α, β}         9869\n",
       "{α, δ}         8537\n",
       "{α, ε}         5843\n",
       "{α, θ}         4968\n",
       "{α, ψ}         3000\n",
       "{α, μ}         1341\n",
       "{α, ε, η}      1207\n",
       "{α, ε, θ}       851\n",
       "{α, λ}          739\n",
       "{α, ε, ψ}       374\n",
       "{λ}              69\n",
       "{α, π}           25\n",
       "Name: count, dtype: Int64"
      ]
     },
     "execution_count": 6,
     "metadata": {},
     "output_type": "execute_result"
    }
   ],
   "source": [
    "train.start_cluster.value_counts()"
   ]
  },
  {
   "cell_type": "code",
   "execution_count": 7,
   "metadata": {},
   "outputs": [
    {
     "data": {
      "text/plain": [
       "{λ}          2.028986\n",
       "{α, μ}       1.583147\n",
       "{}           1.552809\n",
       "{other}      1.483576\n",
       "{α, ε, η}     1.38691\n",
       "{α, ε, θ}    1.321974\n",
       "{α, θ}       1.310588\n",
       "{α, λ}       1.181326\n",
       "{α, β}       1.135171\n",
       "{α, γ}       1.051266\n",
       "{α, ψ}       0.976333\n",
       "{α, ε, ψ}    0.965241\n",
       "{α, ε}        0.93274\n",
       "{α, η}       0.931225\n",
       "{α}          0.847646\n",
       "{α, π}           0.76\n",
       "{α, δ}       0.477685\n",
       "Name: count, dtype: Float64"
      ]
     },
     "execution_count": 7,
     "metadata": {},
     "output_type": "execute_result"
    }
   ],
   "source": [
    "# Процент оставшихся клиентов по кластеру, в среднем\n",
    "(train.end_cluster.value_counts() / train.start_cluster.value_counts()).sort_values(ascending=False)"
   ]
  },
  {
   "cell_type": "code",
   "execution_count": 8,
   "metadata": {},
   "outputs": [
    {
     "data": {
      "text/plain": [
       "<Axes: xlabel='end_cluster', ylabel='start_cluster'>"
      ]
     },
     "execution_count": 8,
     "metadata": {},
     "output_type": "execute_result"
    },
    {
     "data": {
      "image/png": "[encoded data removed]",
      "text/plain": [
       "<Figure size 1200x1200 with 2 Axes>"
      ]
     },
     "metadata": {},
     "output_type": "display_data"
    }
   ],
   "source": [
    "# Тепловая карта переходовб нормализованная по строкам\n",
    "cross = pd.crosstab(train.start_cluster, train.end_cluster, normalize='index')\n",
    "plt.figure(figsize=(12, 12))\n",
    "sns.heatmap(cross, cmap='coolwarm', annot=True, fmt='.2f')"
   ]
  },
  {
   "cell_type": "code",
   "execution_count": 9,
   "metadata": {},
   "outputs": [
    {
     "data": {
      "text/plain": [
       "['{other}',\n",
       " '{}',\n",
       " '{α, β}',\n",
       " '{α, γ}',\n",
       " '{α, δ}',\n",
       " '{α, ε, η}',\n",
       " '{α, ε, θ}',\n",
       " '{α, ε, ψ}',\n",
       " '{α, ε}',\n",
       " '{α, η}',\n",
       " '{α, θ}',\n",
       " '{α, λ}',\n",
       " '{α, μ}',\n",
       " '{α, π}',\n",
       " '{α, ψ}',\n",
       " '{α}',\n",
       " '{λ}']"
      ]
     },
     "execution_count": 9,
     "metadata": {},
     "output_type": "execute_result"
    }
   ],
   "source": [
    "clusters = cross.index.values.tolist()\n",
    "clusters"
   ]
  },
  {
   "cell_type": "code",
   "execution_count": 10,
   "metadata": {},
   "outputs": [],
   "source": [
    "from sklearn.metrics import roc_auc_score\n",
    "\n",
    "def weighted_roc_auc(y_true, y_pred, labels, weights_dict):\n",
    "    unnorm_weights = np.array([weights_dict[label] for label in labels])\n",
    "    weights = unnorm_weights / unnorm_weights.sum()\n",
    "    classes_roc_auc = roc_auc_score(y_true, y_pred, labels=labels,\n",
    "                                    multi_class=\"ovr\", average=None)\n",
    "    return sum(weights * classes_roc_auc)\n",
    "\n",
    "cluster_weights = pd.read_excel(\"data/cluster_weights.xlsx\").set_index(\"cluster\")\n",
    "weights_dict = cluster_weights[\"unnorm_weight\"].to_dict()\n",
    "\n",
    "def score(y_true, y_pred):\n",
    "    return weighted_roc_auc(y_true, y_pred, labels=clusters, weights_dict=weights_dict)"
   ]
  },
  {
   "cell_type": "code",
   "execution_count": 11,
   "metadata": {},
   "outputs": [
    {
     "data": {
      "text/plain": [
       "0.8137253568976719"
      ]
     },
     "execution_count": 11,
     "metadata": {},
     "output_type": "execute_result"
    }
   ],
   "source": [
    "probability_predictions = cross.loc[train.start_cluster].values\n",
    "y_true = train.end_cluster.values\n",
    "score(y_true, probability_predictions)"
   ]
  },
  {
   "cell_type": "code",
   "execution_count": 12,
   "metadata": {},
   "outputs": [
    {
     "data": {
      "text/plain": [
       "0.811467134350189"
      ]
     },
     "execution_count": 12,
     "metadata": {},
     "output_type": "execute_result"
    }
   ],
   "source": [
    "from sklearn.model_selection import train_test_split\n",
    "train, val = train_test_split(train, test_size=0.2, random_state=42, shuffle=False)\n",
    "\n",
    "cross_train = pd.crosstab(train.start_cluster, train.end_cluster, normalize='index')\n",
    "val_pred = cross_train.loc[val.start_cluster].values\n",
    "val_true = val.end_cluster.values\n",
    "score(val_true, val_pred)"
   ]
  },
  {
   "cell_type": "code",
   "execution_count": 13,
   "metadata": {},
   "outputs": [
    {
     "data": {
      "text/plain": [
       "<Axes: xlabel='end_cluster', ylabel='start_cluster'>"
      ]
     },
     "execution_count": 13,
     "metadata": {},
     "output_type": "execute_result"
    },
    {
     "data": {
      "image/png": "[encoded data removed]",
      "text/plain": [
       "<Figure size 1200x1200 with 2 Axes>"
      ]
     },
     "metadata": {},
     "output_type": "display_data"
    }
   ],
   "source": [
    "cross_high = cross.copy()\n",
    "cross_high[cross_high < 0.1] = 0\n",
    "cross_high = cross_high.div(cross_high.sum(axis=1), axis=0)\n",
    "plt.figure(figsize=(12, 12))\n",
    "sns.heatmap(cross_high, cmap='coolwarm', annot=True, fmt='.2f')"
   ]
  },
  {
   "cell_type": "code",
   "execution_count": 14,
   "metadata": {},
   "outputs": [],
   "source": [
    "greek = {'α': 'alpha', 'β': 'beta', 'γ': 'gamma', 'δ': 'delta', 'ε': 'epsilon', 'η': 'eta', 'θ': 'theta', 'λ': 'lambda', 'μ': 'mu', 'π': 'pi', 'ψ': 'psi'}\n",
    "greek_rev = {v: k for k, v in greek.items()}"
   ]
  },
  {
   "cell_type": "code",
   "execution_count": 15,
   "metadata": {},
   "outputs": [],
   "source": [
    "def map_predicted_to_all(predicted, classes):\n",
    "    result = np.zeros(len(clusters))\n",
    "    for i, c in enumerate(classes):\n",
    "        result[clusters.index(c)] = predicted[i]\n",
    "    return result\n",
    "\n",
    "def predict(X_test, models):\n",
    "    defaualt_pred = cross_train.loc[X_test.start_cluster].set_index(X_test.index)\n",
    "    for start_cluster in X_test.start_cluster.unique():\n",
    "        if start_cluster in models:\n",
    "            model = models[start_cluster]\n",
    "            X = X_test[X_test.start_cluster == start_cluster].select_dtypes(include=np.number).fillna(0)\n",
    "            pred = model.predict_proba(X)\n",
    "            pred = np.apply_along_axis(map_predicted_to_all, 1, pred, model.classes_)\n",
    "            assert pred.shape[0] == X.shape[0] and pred.shape[1] == len(clusters)\n",
    "            defaualt_pred.loc[X.index] = pred\n",
    "\n",
    "    return defaualt_pred.values\n",
    "\n",
    "def score_models(X_val, y_val, models):\n",
    "    y_pred = predict(X_val, models)\n",
    "    return score(y_val, y_pred)"
   ]
  },
  {
   "cell_type": "code",
   "execution_count": 16,
   "metadata": {},
   "outputs": [
    {
     "name": "stderr",
     "output_type": "stream",
     "text": [
      "  6%|▌         | 1/17 [00:02<00:46,  2.94s/it]"
     ]
    },
    {
     "name": "stdout",
     "output_type": "stream",
     "text": [
      "{other} 0.7515146661984261\n"
     ]
    },
    {
     "name": "stderr",
     "output_type": "stream",
     "text": [
      " 12%|█▏        | 2/17 [00:05<00:40,  2.72s/it]"
     ]
    },
    {
     "name": "stdout",
     "output_type": "stream",
     "text": [
      "{} 0.7320333200364864\n"
     ]
    },
    {
     "name": "stderr",
     "output_type": "stream",
     "text": [
      " 18%|█▊        | 3/17 [00:06<00:27,  1.96s/it]"
     ]
    },
    {
     "name": "stdout",
     "output_type": "stream",
     "text": [
      "{α, β} 0.663532453894492\n"
     ]
    },
    {
     "name": "stderr",
     "output_type": "stream",
     "text": [
      " 24%|██▎       | 4/17 [00:09<00:28,  2.16s/it]"
     ]
    },
    {
     "name": "stdout",
     "output_type": "stream",
     "text": [
      "{α, γ} 0.6610562505304637\n"
     ]
    },
    {
     "name": "stderr",
     "output_type": "stream",
     "text": [
      " 29%|██▉       | 5/17 [00:09<00:20,  1.68s/it]"
     ]
    },
    {
     "name": "stdout",
     "output_type": "stream",
     "text": [
      "{α, δ} 0.7138994249904337\n"
     ]
    },
    {
     "name": "stderr",
     "output_type": "stream",
     "text": [
      " 35%|███▌      | 6/17 [00:10<00:14,  1.30s/it]"
     ]
    },
    {
     "name": "stdout",
     "output_type": "stream",
     "text": [
      "{α, ε, η} 0.5626839892719414\n"
     ]
    },
    {
     "name": "stderr",
     "output_type": "stream",
     "text": [
      " 41%|████      | 7/17 [00:10<00:10,  1.02s/it]"
     ]
    },
    {
     "name": "stdout",
     "output_type": "stream",
     "text": [
      "{α, ε, θ} 0.6603259120455995\n"
     ]
    },
    {
     "name": "stderr",
     "output_type": "stream",
     "text": [
      " 47%|████▋     | 8/17 [00:11<00:07,  1.18it/s]"
     ]
    },
    {
     "name": "stdout",
     "output_type": "stream",
     "text": [
      "{α, ε, ψ} 0.6493968709538885\n"
     ]
    },
    {
     "name": "stderr",
     "output_type": "stream",
     "text": [
      " 53%|█████▎    | 9/17 [00:12<00:06,  1.25it/s]"
     ]
    },
    {
     "name": "stdout",
     "output_type": "stream",
     "text": [
      "{α, ε} 0.6937334374393526\n"
     ]
    },
    {
     "name": "stderr",
     "output_type": "stream",
     "text": [
      " 59%|█████▉    | 10/17 [00:15<00:11,  1.63s/it]"
     ]
    },
    {
     "name": "stdout",
     "output_type": "stream",
     "text": [
      "{α, η} 0.7017353126607021\n"
     ]
    },
    {
     "name": "stderr",
     "output_type": "stream",
     "text": [
      " 65%|██████▍   | 11/17 [00:16<00:07,  1.32s/it]"
     ]
    },
    {
     "name": "stdout",
     "output_type": "stream",
     "text": [
      "{α, θ} 0.6442388902715639\n"
     ]
    },
    {
     "name": "stderr",
     "output_type": "stream",
     "text": [
      " 71%|███████   | 12/17 [00:16<00:05,  1.09s/it]"
     ]
    },
    {
     "name": "stdout",
     "output_type": "stream",
     "text": [
      "{α, λ} 0.6014209486251674\n"
     ]
    },
    {
     "name": "stderr",
     "output_type": "stream",
     "text": [
      " 76%|███████▋  | 13/17 [00:17<00:03,  1.13it/s]"
     ]
    },
    {
     "name": "stdout",
     "output_type": "stream",
     "text": [
      "{α, μ} 0.7175788656690036\n"
     ]
    },
    {
     "name": "stderr",
     "output_type": "stream",
     "text": [
      " 82%|████████▏ | 14/17 [00:17<00:02,  1.42it/s]"
     ]
    },
    {
     "name": "stdout",
     "output_type": "stream",
     "text": [
      "{α, π} Unkown AUC\n"
     ]
    },
    {
     "name": "stderr",
     "output_type": "stream",
     "text": [
      " 88%|████████▊ | 15/17 [00:17<00:01,  1.58it/s]"
     ]
    },
    {
     "name": "stdout",
     "output_type": "stream",
     "text": [
      "{α, ψ} 0.6182193621823878\n"
     ]
    },
    {
     "name": "stderr",
     "output_type": "stream",
     "text": [
      " 94%|█████████▍| 16/17 [00:48<00:09,  9.57s/it]"
     ]
    },
    {
     "name": "stdout",
     "output_type": "stream",
     "text": [
      "{α} 0.745865641556836\n"
     ]
    },
    {
     "name": "stderr",
     "output_type": "stream",
     "text": [
      "100%|██████████| 17/17 [00:48<00:00,  2.86s/it]"
     ]
    },
    {
     "name": "stdout",
     "output_type": "stream",
     "text": [
      "{λ} 0.7511904761904762\n"
     ]
    },
    {
     "name": "stderr",
     "output_type": "stream",
     "text": [
      "\n"
     ]
    },
    {
     "data": {
      "text/plain": [
       "0.8856302687752039"
      ]
     },
     "execution_count": 16,
     "metadata": {},
     "output_type": "execute_result"
    }
   ],
   "source": [
    "from sklearn.linear_model import LogisticRegression\n",
    "from sklearn.naive_bayes import GaussianNB\n",
    "from sklearn.tree import DecisionTreeClassifier\n",
    "from sklearn.ensemble import RandomForestClassifier\n",
    "from lightgbm import LGBMClassifier\n",
    "from sklearn.metrics import roc_auc_score\n",
    "from tqdm import tqdm\n",
    "\n",
    "models = {}\n",
    "for start_cluster in tqdm(clusters):\n",
    "    X = train[train.start_cluster == start_cluster].select_dtypes(include=np.number).fillna(0)\n",
    "    y = train[train.start_cluster == start_cluster].end_cluster\n",
    "\n",
    "    X_val = val[val.start_cluster == start_cluster].select_dtypes(include=np.number).fillna(0)\n",
    "    y_val = val[val.start_cluster == start_cluster].end_cluster\n",
    "\n",
    "    cur_clusters = set(y_val.unique()) & set(y.unique())\n",
    "    if len(cur_clusters) < 2:\n",
    "        continue\n",
    "\n",
    "    X = X.loc[y.isin(cur_clusters)]\n",
    "    y = y.loc[y.isin(cur_clusters)]\n",
    "    X_val = X_val.loc[y_val.isin(cur_clusters)]\n",
    "    y_val = y_val.loc[y_val.isin(cur_clusters)]\n",
    "\n",
    "    model = RandomForestClassifier(n_estimators=100, random_state=42, n_jobs=-1, max_depth=5)\n",
    "    # model = LGBMClassifier(n_jobs=-1, verbose=100, max_depth=5, n_estimators=100, random_state=42)\n",
    "    model.fit(X, y)\n",
    "    models[start_cluster] = model\n",
    "\n",
    "    val_pred = model.predict_proba(X_val)\n",
    "\n",
    "    try:\n",
    "        print(start_cluster, roc_auc_score(y_val, val_pred, multi_class=\"ovr\", labels=model.classes_))\n",
    "    except ValueError:\n",
    "        print(start_cluster, \"Unkown AUC\")\n",
    "\n",
    "score_all = score_models(val, val.end_cluster, models)\n",
    "score_all"
   ]
  },
  {
   "cell_type": "code",
   "execution_count": 17,
   "metadata": {},
   "outputs": [
    {
     "name": "stdout",
     "output_type": "stream",
     "text": [
      "Initial best score: 0.8115\n",
      "Cluster {other} added\n",
      "New best score: 0.8164\n",
      "Cluster {} added\n",
      "New best score: 0.8245\n",
      "Cluster {α, β} added\n",
      "New best score: 0.8251\n",
      "Cluster {α, γ} added\n",
      "New best score: 0.8265\n",
      "Cluster {α, δ} added\n",
      "New best score: 0.8276\n",
      "Cluster {α, ε, η} added\n",
      "New best score: 0.8276\n",
      "Cluster {α, ε, θ} added\n",
      "New best score: 0.8276\n",
      "Cluster {α, ε, ψ} added\n",
      "New best score: 0.8276\n",
      "Cluster {α, ε} added\n",
      "New best score: 0.8286\n",
      "Cluster {α, η} added\n",
      "New best score: 0.8291\n",
      "Cluster {α, θ} added\n",
      "New best score: 0.8294\n",
      "Cluster {α, λ} added\n",
      "New best score: 0.8295\n",
      "Cluster {α, μ} added\n",
      "New best score: 0.8295\n",
      "Cluster {α, π} added\n",
      "New best score: 0.8295\n",
      "Cluster {α, ψ} added\n",
      "New best score: 0.8298\n",
      "Cluster {α} added\n",
      "New best score: 0.8856\n",
      "Cluster {λ} added\n",
      "New best score: 0.8856\n"
     ]
    },
    {
     "data": {
      "text/plain": [
       "(0.8856302687752039, 17)"
      ]
     },
     "execution_count": 17,
     "metadata": {},
     "output_type": "execute_result"
    }
   ],
   "source": [
    "best_models = {}\n",
    "\n",
    "best_score = score_models(val, val.end_cluster.values, best_models)\n",
    "print(f\"Initial best score: {best_score:.4f}\")\n",
    "\n",
    "for start_cluster in clusters:\n",
    "    if start_cluster not in models:\n",
    "        continue\n",
    "\n",
    "    best_models[start_cluster] = models[start_cluster]\n",
    "    cur_score = score_models(val, val.end_cluster.values, best_models)\n",
    "    if cur_score < best_score:\n",
    "        del best_models[start_cluster]\n",
    "    else:\n",
    "        best_score = cur_score\n",
    "        print(f'Cluster {start_cluster} added')\n",
    "        print(f\"New best score: {best_score:.4f}\")\n",
    "\n",
    "best_score, len(best_models)"
   ]
  },
  {
   "cell_type": "code",
   "execution_count": 18,
   "metadata": {},
   "outputs": [
    {
     "name": "stdout",
     "output_type": "stream",
     "text": [
      "<class 'pandas.core.frame.DataFrame'>\n",
      "RangeIndex: 290120 entries, 0 to 290119\n",
      "Data columns (total 92 columns):\n",
      " #   Column                   Non-Null Count   Dtype  \n",
      "---  ------                   --------------   -----  \n",
      " 0   id                       290120 non-null  int64  \n",
      " 1   date                     290120 non-null  object \n",
      " 2   balance_amt_avg          260637 non-null  float64\n",
      " 3   balance_amt_max          260637 non-null  float64\n",
      " 4   balance_amt_min          260637 non-null  float64\n",
      " 5   balance_amt_day_avg      260637 non-null  float64\n",
      " 6   channel_code             270092 non-null  object \n",
      " 7   city                     229508 non-null  object \n",
      " 8   city_type                229128 non-null  object \n",
      " 9   index_city_code          133659 non-null  object \n",
      " 10  ogrn_days_end_month      275842 non-null  float64\n",
      " 11  ogrn_days_end_quarter    275842 non-null  float64\n",
      " 12  ogrn_month               275842 non-null  object \n",
      " 13  ogrn_year                275842 non-null  object \n",
      " 14  ft_registration_date     275282 non-null  float64\n",
      " 15  max_founderpres          128928 non-null  float64\n",
      " 16  min_founderpres          128928 non-null  float64\n",
      " 17  ogrn_exist_months        275842 non-null  float64\n",
      " 18  okved                    275641 non-null  object \n",
      " 19  segment                  276100 non-null  object \n",
      " 20  sum_of_paym_2m           216659 non-null  float64\n",
      " 21  sum_of_paym_6m           216659 non-null  float64\n",
      " 22  sum_of_paym_1y           216659 non-null  float64\n",
      " 23  sum_a_oper_1m            290120 non-null  float64\n",
      " 24  cnt_a_oper_1m            194910 non-null  float64\n",
      " 25  sum_b_oper_1m            290120 non-null  float64\n",
      " 26  cnt_b_oper_1m            194910 non-null  float64\n",
      " 27  sum_c_oper_1m            290120 non-null  float64\n",
      " 28  cnt_c_oper_1m            194910 non-null  float64\n",
      " 29  sum_deb_d_oper_1m        290120 non-null  float64\n",
      " 30  cnt_deb_d_oper_1m        194910 non-null  float64\n",
      " 31  sum_cred_d_oper_1m       290120 non-null  float64\n",
      " 32  cnt_cred_d_oper_1m       194910 non-null  float64\n",
      " 33  sum_deb_e_oper_1m        290120 non-null  float64\n",
      " 34  cnt_deb_e_oper_1m        194910 non-null  float64\n",
      " 35  cnt_days_deb_e_oper_1m   194910 non-null  float64\n",
      " 36  sum_cred_e_oper_1m       290120 non-null  float64\n",
      " 37  cnt_cred_e_oper_1m       194910 non-null  float64\n",
      " 38  cnt_days_cred_e_oper_1m  194910 non-null  float64\n",
      " 39  sum_deb_f_oper_1m        290120 non-null  float64\n",
      " 40  cnt_deb_f_oper_1m        194910 non-null  float64\n",
      " 41  cnt_days_deb_f_oper_1m   194910 non-null  float64\n",
      " 42  sum_cred_f_oper_1m       290120 non-null  float64\n",
      " 43  cnt_cred_f_oper_1m       194910 non-null  float64\n",
      " 44  cnt_days_cred_f_oper_1m  194910 non-null  float64\n",
      " 45  sum_deb_g_oper_1m        290120 non-null  float64\n",
      " 46  cnt_deb_g_oper_1m        194910 non-null  float64\n",
      " 47  cnt_days_deb_g_oper_1m   194910 non-null  float64\n",
      " 48  sum_cred_g_oper_1m       290120 non-null  float64\n",
      " 49  cnt_cred_g_oper_1m       194910 non-null  float64\n",
      " 50  cnt_days_cred_g_oper_1m  194910 non-null  float64\n",
      " 51  sum_deb_h_oper_1m        290120 non-null  float64\n",
      " 52  cnt_deb_h_oper_1m        194910 non-null  float64\n",
      " 53  cnt_days_deb_h_oper_1m   194910 non-null  float64\n",
      " 54  sum_cred_h_oper_1m       290120 non-null  float64\n",
      " 55  cnt_cred_h_oper_1m       194910 non-null  float64\n",
      " 56  cnt_days_cred_h_oper_1m  194910 non-null  float64\n",
      " 57  sum_a_oper_3m            290120 non-null  float64\n",
      " 58  cnt_a_oper_3m            210553 non-null  float64\n",
      " 59  sum_b_oper_3m            290120 non-null  float64\n",
      " 60  cnt_b_oper_3m            210553 non-null  float64\n",
      " 61  sum_c_oper_3m            290120 non-null  float64\n",
      " 62  cnt_c_oper_3m            210553 non-null  float64\n",
      " 63  sum_deb_d_oper_3m        290120 non-null  float64\n",
      " 64  cnt_deb_d_oper_3m        210553 non-null  float64\n",
      " 65  sum_cred_d_oper_3m       290120 non-null  float64\n",
      " 66  cnt_cred_d_oper_3m       210553 non-null  float64\n",
      " 67  sum_deb_e_oper_3m        290120 non-null  float64\n",
      " 68  cnt_deb_e_oper_3m        210553 non-null  float64\n",
      " 69  cnt_days_deb_e_oper_3m   210553 non-null  float64\n",
      " 70  sum_cred_e_oper_3m       290120 non-null  float64\n",
      " 71  cnt_cred_e_oper_3m       210553 non-null  float64\n",
      " 72  cnt_days_cred_e_oper_3m  210553 non-null  float64\n",
      " 73  sum_deb_f_oper_3m        290120 non-null  float64\n",
      " 74  cnt_deb_f_oper_3m        210553 non-null  float64\n",
      " 75  cnt_days_deb_f_oper_3m   210553 non-null  float64\n",
      " 76  sum_cred_f_oper_3m       290120 non-null  float64\n",
      " 77  cnt_cred_f_oper_3m       210553 non-null  float64\n",
      " 78  cnt_days_cred_f_oper_3m  210553 non-null  float64\n",
      " 79  sum_deb_g_oper_3m        290120 non-null  float64\n",
      " 80  cnt_deb_g_oper_3m        210553 non-null  float64\n",
      " 81  cnt_days_deb_g_oper_3m   210553 non-null  float64\n",
      " 82  sum_cred_g_oper_3m       290120 non-null  float64\n",
      " 83  cnt_cred_g_oper_3m       210553 non-null  float64\n",
      " 84  cnt_days_cred_g_oper_3m  210553 non-null  float64\n",
      " 85  sum_deb_h_oper_3m        290120 non-null  float64\n",
      " 86  cnt_deb_h_oper_3m        210553 non-null  float64\n",
      " 87  cnt_days_deb_h_oper_3m   210553 non-null  float64\n",
      " 88  sum_cred_h_oper_3m       290120 non-null  float64\n",
      " 89  cnt_cred_h_oper_3m       210553 non-null  float64\n",
      " 90  cnt_days_cred_h_oper_3m  210553 non-null  float64\n",
      " 91  start_cluster            190120 non-null  object \n",
      "dtypes: float64(81), int64(1), object(10)\n",
      "memory usage: 203.6+ MB\n"
     ]
    }
   ],
   "source": [
    "test = pd.read_parquet('data/test_data.pqt')\n",
    "test.info()"
   ]
  },
  {
   "cell_type": "code",
   "execution_count": 19,
   "metadata": {},
   "outputs": [
    {
     "name": "stdout",
     "output_type": "stream",
     "text": [
      "<class 'pandas.core.series.Series'>\n",
      "RangeIndex: 290120 entries, 0 to 290119\n",
      "Series name: start_cluster\n",
      "Non-Null Count   Dtype \n",
      "--------------   ----- \n",
      "190120 non-null  object\n",
      "dtypes: object(1)\n",
      "memory usage: 2.2+ MB\n"
     ]
    }
   ],
   "source": [
    "test.start_cluster.info()"
   ]
  },
  {
   "cell_type": "code",
   "execution_count": 20,
   "metadata": {},
   "outputs": [
    {
     "data": {
      "text/html": [
       "<div>\n",
       "<style scoped>\n",
       "    .dataframe tbody tr th:only-of-type {\n",
       "        vertical-align: middle;\n",
       "    }\n",
       "\n",
       "    .dataframe tbody tr th {\n",
       "        vertical-align: top;\n",
       "    }\n",
       "\n",
       "    .dataframe thead th {\n",
       "        text-align: right;\n",
       "    }\n",
       "</style>\n",
       "<table border=\"1\" class=\"dataframe\">\n",
       "  <thead>\n",
       "    <tr style=\"text-align: right;\">\n",
       "      <th></th>\n",
       "      <th>id</th>\n",
       "      <th>date</th>\n",
       "      <th>balance_amt_avg</th>\n",
       "      <th>balance_amt_max</th>\n",
       "      <th>balance_amt_min</th>\n",
       "      <th>balance_amt_day_avg</th>\n",
       "      <th>channel_code</th>\n",
       "      <th>city</th>\n",
       "      <th>city_type</th>\n",
       "      <th>index_city_code</th>\n",
       "      <th>...</th>\n",
       "      <th>sum_cred_g_oper_3m</th>\n",
       "      <th>cnt_cred_g_oper_3m</th>\n",
       "      <th>cnt_days_cred_g_oper_3m</th>\n",
       "      <th>sum_deb_h_oper_3m</th>\n",
       "      <th>cnt_deb_h_oper_3m</th>\n",
       "      <th>cnt_days_deb_h_oper_3m</th>\n",
       "      <th>sum_cred_h_oper_3m</th>\n",
       "      <th>cnt_cred_h_oper_3m</th>\n",
       "      <th>cnt_days_cred_h_oper_3m</th>\n",
       "      <th>start_cluster</th>\n",
       "    </tr>\n",
       "  </thead>\n",
       "  <tbody>\n",
       "    <tr>\n",
       "      <th>0</th>\n",
       "      <td>200000</td>\n",
       "      <td>month_4</td>\n",
       "      <td>-0.096224</td>\n",
       "      <td>0.335496</td>\n",
       "      <td>-0.125995</td>\n",
       "      <td>-0.095578</td>\n",
       "      <td>channel_code_12</td>\n",
       "      <td>city_14</td>\n",
       "      <td>city_type_0</td>\n",
       "      <td>None</td>\n",
       "      <td>...</td>\n",
       "      <td>0.010952</td>\n",
       "      <td>0.946066</td>\n",
       "      <td>0.407762</td>\n",
       "      <td>-0.153950</td>\n",
       "      <td>0.548895</td>\n",
       "      <td>0.541020</td>\n",
       "      <td>0.031742</td>\n",
       "      <td>0.257278</td>\n",
       "      <td>0.561353</td>\n",
       "      <td>{α}</td>\n",
       "    </tr>\n",
       "    <tr>\n",
       "      <th>1</th>\n",
       "      <td>200000</td>\n",
       "      <td>month_5</td>\n",
       "      <td>-0.024255</td>\n",
       "      <td>-0.059806</td>\n",
       "      <td>-0.124295</td>\n",
       "      <td>-0.023381</td>\n",
       "      <td>channel_code_12</td>\n",
       "      <td>city_14</td>\n",
       "      <td>city_type_0</td>\n",
       "      <td>None</td>\n",
       "      <td>...</td>\n",
       "      <td>0.006812</td>\n",
       "      <td>0.945281</td>\n",
       "      <td>0.396267</td>\n",
       "      <td>-0.150505</td>\n",
       "      <td>0.549468</td>\n",
       "      <td>0.552131</td>\n",
       "      <td>0.237817</td>\n",
       "      <td>0.264211</td>\n",
       "      <td>0.715199</td>\n",
       "      <td>{α}</td>\n",
       "    </tr>\n",
       "    <tr>\n",
       "      <th>2</th>\n",
       "      <td>200000</td>\n",
       "      <td>month_6</td>\n",
       "      <td>0.045988</td>\n",
       "      <td>0.049418</td>\n",
       "      <td>-0.125995</td>\n",
       "      <td>0.047079</td>\n",
       "      <td>channel_code_12</td>\n",
       "      <td>city_14</td>\n",
       "      <td>city_type_0</td>\n",
       "      <td>None</td>\n",
       "      <td>...</td>\n",
       "      <td>0.006812</td>\n",
       "      <td>0.945281</td>\n",
       "      <td>0.396267</td>\n",
       "      <td>-0.152800</td>\n",
       "      <td>0.549468</td>\n",
       "      <td>0.541020</td>\n",
       "      <td>0.387566</td>\n",
       "      <td>0.268543</td>\n",
       "      <td>0.836079</td>\n",
       "      <td>None</td>\n",
       "    </tr>\n",
       "  </tbody>\n",
       "</table>\n",
       "<p>3 rows × 92 columns</p>\n",
       "</div>"
      ],
      "text/plain": [
       "       id     date  balance_amt_avg  balance_amt_max  balance_amt_min  \\\n",
       "0  200000  month_4        -0.096224         0.335496        -0.125995   \n",
       "1  200000  month_5        -0.024255        -0.059806        -0.124295   \n",
       "2  200000  month_6         0.045988         0.049418        -0.125995   \n",
       "\n",
       "   balance_amt_day_avg     channel_code     city    city_type index_city_code  \\\n",
       "0            -0.095578  channel_code_12  city_14  city_type_0            None   \n",
       "1            -0.023381  channel_code_12  city_14  city_type_0            None   \n",
       "2             0.047079  channel_code_12  city_14  city_type_0            None   \n",
       "\n",
       "   ...  sum_cred_g_oper_3m  cnt_cred_g_oper_3m cnt_days_cred_g_oper_3m  \\\n",
       "0  ...            0.010952            0.946066                0.407762   \n",
       "1  ...            0.006812            0.945281                0.396267   \n",
       "2  ...            0.006812            0.945281                0.396267   \n",
       "\n",
       "  sum_deb_h_oper_3m  cnt_deb_h_oper_3m  cnt_days_deb_h_oper_3m  \\\n",
       "0         -0.153950           0.548895                0.541020   \n",
       "1         -0.150505           0.549468                0.552131   \n",
       "2         -0.152800           0.549468                0.541020   \n",
       "\n",
       "   sum_cred_h_oper_3m  cnt_cred_h_oper_3m cnt_days_cred_h_oper_3m  \\\n",
       "0            0.031742            0.257278                0.561353   \n",
       "1            0.237817            0.264211                0.715199   \n",
       "2            0.387566            0.268543                0.836079   \n",
       "\n",
       "  start_cluster  \n",
       "0           {α}  \n",
       "1           {α}  \n",
       "2          None  \n",
       "\n",
       "[3 rows x 92 columns]"
      ]
     },
     "execution_count": 20,
     "metadata": {},
     "output_type": "execute_result"
    }
   ],
   "source": [
    "test.head(3)"
   ]
  },
  {
   "cell_type": "code",
   "execution_count": 21,
   "metadata": {},
   "outputs": [
    {
     "data": {
      "text/plain": [
       "(100000, 18)"
      ]
     },
     "execution_count": 21,
     "metadata": {},
     "output_type": "execute_result"
    }
   ],
   "source": [
    "sample_submission = pd.read_csv(\"data/sample_submission.csv\")\n",
    "sample_submission.shape"
   ]
  },
  {
   "cell_type": "code",
   "execution_count": 22,
   "metadata": {},
   "outputs": [
    {
     "data": {
      "text/html": [
       "<div>\n",
       "<style scoped>\n",
       "    .dataframe tbody tr th:only-of-type {\n",
       "        vertical-align: middle;\n",
       "    }\n",
       "\n",
       "    .dataframe tbody tr th {\n",
       "        vertical-align: top;\n",
       "    }\n",
       "\n",
       "    .dataframe thead th {\n",
       "        text-align: right;\n",
       "    }\n",
       "</style>\n",
       "<table border=\"1\" class=\"dataframe\">\n",
       "  <thead>\n",
       "    <tr style=\"text-align: right;\">\n",
       "      <th></th>\n",
       "      <th>id</th>\n",
       "      <th>{other}</th>\n",
       "      <th>{}</th>\n",
       "      <th>{α, β}</th>\n",
       "      <th>{α, γ}</th>\n",
       "      <th>{α, δ}</th>\n",
       "      <th>{α, ε, η}</th>\n",
       "      <th>{α, ε, θ}</th>\n",
       "      <th>{α, ε, ψ}</th>\n",
       "      <th>{α, ε}</th>\n",
       "      <th>{α, η}</th>\n",
       "      <th>{α, θ}</th>\n",
       "      <th>{α, λ}</th>\n",
       "      <th>{α, μ}</th>\n",
       "      <th>{α, π}</th>\n",
       "      <th>{α, ψ}</th>\n",
       "      <th>{α}</th>\n",
       "      <th>{λ}</th>\n",
       "    </tr>\n",
       "  </thead>\n",
       "  <tbody>\n",
       "    <tr>\n",
       "      <th>0</th>\n",
       "      <td>200000</td>\n",
       "      <td>0.2</td>\n",
       "      <td>0.05</td>\n",
       "      <td>0.05</td>\n",
       "      <td>0.05</td>\n",
       "      <td>0.05</td>\n",
       "      <td>0.05</td>\n",
       "      <td>0.05</td>\n",
       "      <td>0.05</td>\n",
       "      <td>0.05</td>\n",
       "      <td>0.05</td>\n",
       "      <td>0.05</td>\n",
       "      <td>0.05</td>\n",
       "      <td>0.05</td>\n",
       "      <td>0.05</td>\n",
       "      <td>0.05</td>\n",
       "      <td>0.05</td>\n",
       "      <td>0.05</td>\n",
       "    </tr>\n",
       "    <tr>\n",
       "      <th>1</th>\n",
       "      <td>200001</td>\n",
       "      <td>0.2</td>\n",
       "      <td>0.05</td>\n",
       "      <td>0.05</td>\n",
       "      <td>0.05</td>\n",
       "      <td>0.05</td>\n",
       "      <td>0.05</td>\n",
       "      <td>0.05</td>\n",
       "      <td>0.05</td>\n",
       "      <td>0.05</td>\n",
       "      <td>0.05</td>\n",
       "      <td>0.05</td>\n",
       "      <td>0.05</td>\n",
       "      <td>0.05</td>\n",
       "      <td>0.05</td>\n",
       "      <td>0.05</td>\n",
       "      <td>0.05</td>\n",
       "      <td>0.05</td>\n",
       "    </tr>\n",
       "    <tr>\n",
       "      <th>2</th>\n",
       "      <td>200002</td>\n",
       "      <td>0.2</td>\n",
       "      <td>0.05</td>\n",
       "      <td>0.05</td>\n",
       "      <td>0.05</td>\n",
       "      <td>0.05</td>\n",
       "      <td>0.05</td>\n",
       "      <td>0.05</td>\n",
       "      <td>0.05</td>\n",
       "      <td>0.05</td>\n",
       "      <td>0.05</td>\n",
       "      <td>0.05</td>\n",
       "      <td>0.05</td>\n",
       "      <td>0.05</td>\n",
       "      <td>0.05</td>\n",
       "      <td>0.05</td>\n",
       "      <td>0.05</td>\n",
       "      <td>0.05</td>\n",
       "    </tr>\n",
       "  </tbody>\n",
       "</table>\n",
       "</div>"
      ],
      "text/plain": [
       "       id  {other}    {}  {α, β}  {α, γ}  {α, δ}  {α, ε, η}  {α, ε, θ}  \\\n",
       "0  200000      0.2  0.05    0.05    0.05    0.05       0.05       0.05   \n",
       "1  200001      0.2  0.05    0.05    0.05    0.05       0.05       0.05   \n",
       "2  200002      0.2  0.05    0.05    0.05    0.05       0.05       0.05   \n",
       "\n",
       "   {α, ε, ψ}  {α, ε}  {α, η}  {α, θ}  {α, λ}  {α, μ}  {α, π}  {α, ψ}   {α}  \\\n",
       "0       0.05    0.05    0.05    0.05    0.05    0.05    0.05    0.05  0.05   \n",
       "1       0.05    0.05    0.05    0.05    0.05    0.05    0.05    0.05  0.05   \n",
       "2       0.05    0.05    0.05    0.05    0.05    0.05    0.05    0.05  0.05   \n",
       "\n",
       "    {λ}  \n",
       "0  0.05  \n",
       "1  0.05  \n",
       "2  0.05  "
      ]
     },
     "execution_count": 22,
     "metadata": {},
     "output_type": "execute_result"
    }
   ],
   "source": [
    "sample_submission.head(3)"
   ]
  },
  {
   "cell_type": "code",
   "execution_count": 23,
   "metadata": {},
   "outputs": [
    {
     "data": {
      "text/plain": [
       "(100000, 92)"
      ]
     },
     "execution_count": 23,
     "metadata": {},
     "output_type": "execute_result"
    }
   ],
   "source": [
    "test.start_cluster = test.start_cluster.ffill()\n",
    "test_to_predict = test[test.date == 'month_6']\n",
    "test_to_predict.shape"
   ]
  },
  {
   "cell_type": "code",
   "execution_count": 24,
   "metadata": {},
   "outputs": [
    {
     "data": {
      "text/plain": [
       "(100000, 17)"
      ]
     },
     "execution_count": 24,
     "metadata": {},
     "output_type": "execute_result"
    }
   ],
   "source": [
    "predicted = predict(test_to_predict, best_models)\n",
    "predicted.shape"
   ]
  },
  {
   "cell_type": "code",
   "execution_count": 25,
   "metadata": {},
   "outputs": [
    {
     "data": {
      "text/html": [
       "<div>\n",
       "<style scoped>\n",
       "    .dataframe tbody tr th:only-of-type {\n",
       "        vertical-align: middle;\n",
       "    }\n",
       "\n",
       "    .dataframe tbody tr th {\n",
       "        vertical-align: top;\n",
       "    }\n",
       "\n",
       "    .dataframe thead th {\n",
       "        text-align: right;\n",
       "    }\n",
       "</style>\n",
       "<table border=\"1\" class=\"dataframe\">\n",
       "  <thead>\n",
       "    <tr style=\"text-align: right;\">\n",
       "      <th></th>\n",
       "      <th>id</th>\n",
       "      <th>{other}</th>\n",
       "      <th>{}</th>\n",
       "      <th>{α, β}</th>\n",
       "      <th>{α, γ}</th>\n",
       "      <th>{α, δ}</th>\n",
       "      <th>{α, ε, η}</th>\n",
       "      <th>{α, ε, θ}</th>\n",
       "      <th>{α, ε, ψ}</th>\n",
       "      <th>{α, ε}</th>\n",
       "      <th>{α, η}</th>\n",
       "      <th>{α, θ}</th>\n",
       "      <th>{α, λ}</th>\n",
       "      <th>{α, μ}</th>\n",
       "      <th>{α, π}</th>\n",
       "      <th>{α, ψ}</th>\n",
       "      <th>{α}</th>\n",
       "      <th>{λ}</th>\n",
       "    </tr>\n",
       "  </thead>\n",
       "  <tbody>\n",
       "    <tr>\n",
       "      <th>0</th>\n",
       "      <td>200000</td>\n",
       "      <td>0.019918</td>\n",
       "      <td>0.045462</td>\n",
       "      <td>0.021651</td>\n",
       "      <td>0.031180</td>\n",
       "      <td>0.007933</td>\n",
       "      <td>0.000330</td>\n",
       "      <td>0.001097</td>\n",
       "      <td>0.000250</td>\n",
       "      <td>0.009140</td>\n",
       "      <td>0.011233</td>\n",
       "      <td>0.008301</td>\n",
       "      <td>0.002192</td>\n",
       "      <td>0.003885</td>\n",
       "      <td>0.000012</td>\n",
       "      <td>0.002194</td>\n",
       "      <td>0.835195</td>\n",
       "      <td>0.000026</td>\n",
       "    </tr>\n",
       "    <tr>\n",
       "      <th>1</th>\n",
       "      <td>200001</td>\n",
       "      <td>0.017410</td>\n",
       "      <td>0.496086</td>\n",
       "      <td>0.002616</td>\n",
       "      <td>0.004215</td>\n",
       "      <td>0.001158</td>\n",
       "      <td>0.000473</td>\n",
       "      <td>0.000350</td>\n",
       "      <td>0.000044</td>\n",
       "      <td>0.001601</td>\n",
       "      <td>0.013211</td>\n",
       "      <td>0.001523</td>\n",
       "      <td>0.000631</td>\n",
       "      <td>0.000813</td>\n",
       "      <td>0.000016</td>\n",
       "      <td>0.000580</td>\n",
       "      <td>0.459176</td>\n",
       "      <td>0.000098</td>\n",
       "    </tr>\n",
       "    <tr>\n",
       "      <th>2</th>\n",
       "      <td>200002</td>\n",
       "      <td>0.746530</td>\n",
       "      <td>0.001837</td>\n",
       "      <td>0.013006</td>\n",
       "      <td>0.118322</td>\n",
       "      <td>0.008160</td>\n",
       "      <td>0.002030</td>\n",
       "      <td>0.006366</td>\n",
       "      <td>0.003861</td>\n",
       "      <td>0.015728</td>\n",
       "      <td>0.011472</td>\n",
       "      <td>0.014325</td>\n",
       "      <td>0.001267</td>\n",
       "      <td>0.004013</td>\n",
       "      <td>0.000000</td>\n",
       "      <td>0.010654</td>\n",
       "      <td>0.042429</td>\n",
       "      <td>0.000000</td>\n",
       "    </tr>\n",
       "    <tr>\n",
       "      <th>3</th>\n",
       "      <td>200003</td>\n",
       "      <td>0.017357</td>\n",
       "      <td>0.577503</td>\n",
       "      <td>0.002090</td>\n",
       "      <td>0.004279</td>\n",
       "      <td>0.000892</td>\n",
       "      <td>0.000389</td>\n",
       "      <td>0.000377</td>\n",
       "      <td>0.000056</td>\n",
       "      <td>0.001156</td>\n",
       "      <td>0.013040</td>\n",
       "      <td>0.001974</td>\n",
       "      <td>0.000212</td>\n",
       "      <td>0.000850</td>\n",
       "      <td>0.000025</td>\n",
       "      <td>0.000699</td>\n",
       "      <td>0.379022</td>\n",
       "      <td>0.000080</td>\n",
       "    </tr>\n",
       "    <tr>\n",
       "      <th>4</th>\n",
       "      <td>200004</td>\n",
       "      <td>0.051370</td>\n",
       "      <td>0.179812</td>\n",
       "      <td>0.023027</td>\n",
       "      <td>0.033306</td>\n",
       "      <td>0.004094</td>\n",
       "      <td>0.000028</td>\n",
       "      <td>0.003391</td>\n",
       "      <td>0.000000</td>\n",
       "      <td>0.008274</td>\n",
       "      <td>0.060946</td>\n",
       "      <td>0.011485</td>\n",
       "      <td>0.000066</td>\n",
       "      <td>0.009281</td>\n",
       "      <td>0.000000</td>\n",
       "      <td>0.002642</td>\n",
       "      <td>0.612274</td>\n",
       "      <td>0.000003</td>\n",
       "    </tr>\n",
       "    <tr>\n",
       "      <th>...</th>\n",
       "      <td>...</td>\n",
       "      <td>...</td>\n",
       "      <td>...</td>\n",
       "      <td>...</td>\n",
       "      <td>...</td>\n",
       "      <td>...</td>\n",
       "      <td>...</td>\n",
       "      <td>...</td>\n",
       "      <td>...</td>\n",
       "      <td>...</td>\n",
       "      <td>...</td>\n",
       "      <td>...</td>\n",
       "      <td>...</td>\n",
       "      <td>...</td>\n",
       "      <td>...</td>\n",
       "      <td>...</td>\n",
       "      <td>...</td>\n",
       "      <td>...</td>\n",
       "    </tr>\n",
       "    <tr>\n",
       "      <th>99995</th>\n",
       "      <td>299995</td>\n",
       "      <td>0.019744</td>\n",
       "      <td>0.408971</td>\n",
       "      <td>0.002954</td>\n",
       "      <td>0.005311</td>\n",
       "      <td>0.001434</td>\n",
       "      <td>0.000100</td>\n",
       "      <td>0.000582</td>\n",
       "      <td>0.000008</td>\n",
       "      <td>0.001778</td>\n",
       "      <td>0.006674</td>\n",
       "      <td>0.001866</td>\n",
       "      <td>0.000831</td>\n",
       "      <td>0.000668</td>\n",
       "      <td>0.000028</td>\n",
       "      <td>0.000799</td>\n",
       "      <td>0.547919</td>\n",
       "      <td>0.000332</td>\n",
       "    </tr>\n",
       "    <tr>\n",
       "      <th>99996</th>\n",
       "      <td>299996</td>\n",
       "      <td>0.017578</td>\n",
       "      <td>0.043753</td>\n",
       "      <td>0.017874</td>\n",
       "      <td>0.027655</td>\n",
       "      <td>0.006200</td>\n",
       "      <td>0.000401</td>\n",
       "      <td>0.000677</td>\n",
       "      <td>0.000154</td>\n",
       "      <td>0.007673</td>\n",
       "      <td>0.012981</td>\n",
       "      <td>0.006109</td>\n",
       "      <td>0.001733</td>\n",
       "      <td>0.004334</td>\n",
       "      <td>0.000008</td>\n",
       "      <td>0.001828</td>\n",
       "      <td>0.851015</td>\n",
       "      <td>0.000029</td>\n",
       "    </tr>\n",
       "    <tr>\n",
       "      <th>99997</th>\n",
       "      <td>299997</td>\n",
       "      <td>0.037351</td>\n",
       "      <td>0.055103</td>\n",
       "      <td>0.024576</td>\n",
       "      <td>0.050684</td>\n",
       "      <td>0.012654</td>\n",
       "      <td>0.000351</td>\n",
       "      <td>0.001237</td>\n",
       "      <td>0.000388</td>\n",
       "      <td>0.013434</td>\n",
       "      <td>0.013345</td>\n",
       "      <td>0.008119</td>\n",
       "      <td>0.002917</td>\n",
       "      <td>0.004572</td>\n",
       "      <td>0.000083</td>\n",
       "      <td>0.005871</td>\n",
       "      <td>0.769281</td>\n",
       "      <td>0.000035</td>\n",
       "    </tr>\n",
       "    <tr>\n",
       "      <th>99998</th>\n",
       "      <td>299998</td>\n",
       "      <td>0.054577</td>\n",
       "      <td>0.177281</td>\n",
       "      <td>0.021385</td>\n",
       "      <td>0.038497</td>\n",
       "      <td>0.001444</td>\n",
       "      <td>0.000000</td>\n",
       "      <td>0.001839</td>\n",
       "      <td>0.000000</td>\n",
       "      <td>0.004788</td>\n",
       "      <td>0.048207</td>\n",
       "      <td>0.004127</td>\n",
       "      <td>0.000000</td>\n",
       "      <td>0.005052</td>\n",
       "      <td>0.000000</td>\n",
       "      <td>0.006352</td>\n",
       "      <td>0.636451</td>\n",
       "      <td>0.000000</td>\n",
       "    </tr>\n",
       "    <tr>\n",
       "      <th>99999</th>\n",
       "      <td>299999</td>\n",
       "      <td>0.024526</td>\n",
       "      <td>0.038329</td>\n",
       "      <td>0.019835</td>\n",
       "      <td>0.034447</td>\n",
       "      <td>0.009591</td>\n",
       "      <td>0.000462</td>\n",
       "      <td>0.000942</td>\n",
       "      <td>0.000233</td>\n",
       "      <td>0.011473</td>\n",
       "      <td>0.014170</td>\n",
       "      <td>0.007598</td>\n",
       "      <td>0.002559</td>\n",
       "      <td>0.005376</td>\n",
       "      <td>0.000007</td>\n",
       "      <td>0.002977</td>\n",
       "      <td>0.827453</td>\n",
       "      <td>0.000022</td>\n",
       "    </tr>\n",
       "  </tbody>\n",
       "</table>\n",
       "<p>100000 rows × 18 columns</p>\n",
       "</div>"
      ],
      "text/plain": [
       "           id   {other}        {}    {α, β}    {α, γ}    {α, δ}  {α, ε, η}  \\\n",
       "0      200000  0.019918  0.045462  0.021651  0.031180  0.007933   0.000330   \n",
       "1      200001  0.017410  0.496086  0.002616  0.004215  0.001158   0.000473   \n",
       "2      200002  0.746530  0.001837  0.013006  0.118322  0.008160   0.002030   \n",
       "3      200003  0.017357  0.577503  0.002090  0.004279  0.000892   0.000389   \n",
       "4      200004  0.051370  0.179812  0.023027  0.033306  0.004094   0.000028   \n",
       "...       ...       ...       ...       ...       ...       ...        ...   \n",
       "99995  299995  0.019744  0.408971  0.002954  0.005311  0.001434   0.000100   \n",
       "99996  299996  0.017578  0.043753  0.017874  0.027655  0.006200   0.000401   \n",
       "99997  299997  0.037351  0.055103  0.024576  0.050684  0.012654   0.000351   \n",
       "99998  299998  0.054577  0.177281  0.021385  0.038497  0.001444   0.000000   \n",
       "99999  299999  0.024526  0.038329  0.019835  0.034447  0.009591   0.000462   \n",
       "\n",
       "       {α, ε, θ}  {α, ε, ψ}    {α, ε}    {α, η}    {α, θ}    {α, λ}    {α, μ}  \\\n",
       "0       0.001097   0.000250  0.009140  0.011233  0.008301  0.002192  0.003885   \n",
       "1       0.000350   0.000044  0.001601  0.013211  0.001523  0.000631  0.000813   \n",
       "2       0.006366   0.003861  0.015728  0.011472  0.014325  0.001267  0.004013   \n",
       "3       0.000377   0.000056  0.001156  0.013040  0.001974  0.000212  0.000850   \n",
       "4       0.003391   0.000000  0.008274  0.060946  0.011485  0.000066  0.009281   \n",
       "...          ...        ...       ...       ...       ...       ...       ...   \n",
       "99995   0.000582   0.000008  0.001778  0.006674  0.001866  0.000831  0.000668   \n",
       "99996   0.000677   0.000154  0.007673  0.012981  0.006109  0.001733  0.004334   \n",
       "99997   0.001237   0.000388  0.013434  0.013345  0.008119  0.002917  0.004572   \n",
       "99998   0.001839   0.000000  0.004788  0.048207  0.004127  0.000000  0.005052   \n",
       "99999   0.000942   0.000233  0.011473  0.014170  0.007598  0.002559  0.005376   \n",
       "\n",
       "         {α, π}    {α, ψ}       {α}       {λ}  \n",
       "0      0.000012  0.002194  0.835195  0.000026  \n",
       "1      0.000016  0.000580  0.459176  0.000098  \n",
       "2      0.000000  0.010654  0.042429  0.000000  \n",
       "3      0.000025  0.000699  0.379022  0.000080  \n",
       "4      0.000000  0.002642  0.612274  0.000003  \n",
       "...         ...       ...       ...       ...  \n",
       "99995  0.000028  0.000799  0.547919  0.000332  \n",
       "99996  0.000008  0.001828  0.851015  0.000029  \n",
       "99997  0.000083  0.005871  0.769281  0.000035  \n",
       "99998  0.000000  0.006352  0.636451  0.000000  \n",
       "99999  0.000007  0.002977  0.827453  0.000022  \n",
       "\n",
       "[100000 rows x 18 columns]"
      ]
     },
     "execution_count": 25,
     "metadata": {},
     "output_type": "execute_result"
    }
   ],
   "source": [
    "submission = pd.DataFrame(predicted, columns=clusters)\n",
    "submission['id'] = test_to_predict.id.values\n",
    "submission = submission[['id'] + clusters]\n",
    "submission"
   ]
  }
 ],
 "metadata": {
  "kernelspec": {
   "display_name": "MLvenv",
   "language": "python",
   "name": "python3"
  },
  "language_info": {
   "codemirror_mode": {
    "name": "ipython",
    "version": 3
   },
   "file_extension": ".py",
   "mimetype": "text/x-python",
   "name": "python",
   "nbconvert_exporter": "python",
   "pygments_lexer": "ipython3",
   "version": "3.11.7"
  }
 },
 "nbformat": 4,
 "nbformat_minor": 2
}
