{
 "metadata": {
  "kernelspec": {
   "display_name": "Python 3",
   "language": "python",
   "name": "python3"
  },
  "language_info": {
   "name": "python",
   "version": "3.10.13",
   "mimetype": "text/x-python",
   "codemirror_mode": {
    "name": "ipython",
    "version": 3
   },
   "pygments_lexer": "ipython3",
   "nbconvert_exporter": "python",
   "file_extension": ".py"
  },
  "kaggle": {
   "accelerator": "gpu",
   "dataSources": [
    {
     "sourceId": 7798308,
     "sourceType": "datasetVersion",
     "datasetId": 4565742
    },
    {
     "sourceId": 7819206,
     "sourceType": "datasetVersion",
     "datasetId": 4581141
    }
   ],
   "dockerImageVersionId": 30665,
   "isInternetEnabled": true,
   "language": "python",
   "sourceType": "notebook",
   "isGpuEnabled": true
  }
 },
 "nbformat_minor": 4,
 "nbformat": 4,
 "cells": [
  {
   "cell_type": "code",
   "source": [
    "import pandas as pd\n",
    "import numpy as np\n",
    "import matplotlib.pyplot as plt\n",
    "import seaborn as sns\n",
    "from sklearn.model_selection import train_test_split\n",
    "from sklearn.metrics import roc_auc_score\n",
    "from tqdm import tqdm\n",
    "from sklearn.model_selection import KFold, StratifiedKFold"
   ],
   "metadata": {
    "collapsed": false,
    "ExecuteTime": {
     "end_time": "2024-03-11T18:07:34.987503996Z",
     "start_time": "2024-03-11T18:07:34.713839407Z"
    },
    "jupyter": {
     "outputs_hidden": false
    },
    "execution": {
     "iopub.status.busy": "2024-03-14T01:27:06.015873Z",
     "iopub.execute_input": "2024-03-14T01:27:06.016588Z",
     "iopub.status.idle": "2024-03-14T01:27:06.021596Z",
     "shell.execute_reply.started": "2024-03-14T01:27:06.016555Z",
     "shell.execute_reply": "2024-03-14T01:27:06.020733Z"
    },
    "trusted": true
   },
   "execution_count": 16,
   "outputs": []
  },
  {
   "cell_type": "code",
   "source": [
    "import pandas as pd\n",
    "import numpy as np\n",
    "import os\n",
    "\n",
    "def set_path(new_path: str):\n",
    "    os.environ[\"DATA_PATH\"] = new_path\n",
    "\n",
    "def get_data_path():\n",
    "    return os.environ.get(\"DATA_PATH\", \"data/\")\n",
    "\n",
    "def get_cluster_weights():\n",
    "    path = get_data_path()\n",
    "    return pd.read_excel(path + \"cluster_weights.xlsx\").set_index(\"cluster\")\n",
    "\n",
    "def get_train_data():\n",
    "    path = get_data_path()\n",
    "    return pd.read_parquet(path + \"train_data.pqt\")\n",
    "\n",
    "def get_test_data():\n",
    "    path = get_data_path()\n",
    "    return pd.read_parquet(path + \"test_data.pqt\")\n",
    "\n",
    "def get_sample_submission():\n",
    "    path = get_data_path()\n",
    "    return pd.read_csv(path + \"sample_submission.csv\")\n",
    "\n",
    "def get_final_proba(test_start_cluster_proba: pd.DataFrame, transition_proba: np.array):\n",
    "    # test_start_cluster_proba: (n_samples, n_clusters)\n",
    "    # transition_proba: (n_samples, n_clusters, n_clusters)\n",
    "    # return (n_samples, n_clusters)\n",
    "    \n",
    "    return np.einsum(\"ij,ijk->ik\", test_start_cluster_proba, transition_proba)\n",
    "\n",
    "clusters = [\n",
    "    '{other}',\n",
    "    '{}',\n",
    "    '{α, β}',\n",
    "    '{α, γ}',\n",
    "    '{α, δ}',\n",
    "    '{α, ε, η}',\n",
    "    '{α, ε, θ}',\n",
    "    '{α, ε, ψ}',\n",
    "    '{α, ε}',\n",
    "    '{α, η}',\n",
    "    '{α, θ}',\n",
    "    '{α, λ}',\n",
    "    '{α, μ}',\n",
    "    '{α, π}',\n",
    "    '{α, ψ}',\n",
    "    '{α}',\n",
    "    '{λ}'\n",
    "]"
   ],
   "metadata": {
    "execution": {
     "iopub.status.busy": "2024-03-14T01:27:09.350279Z",
     "iopub.execute_input": "2024-03-14T01:27:09.350652Z",
     "iopub.status.idle": "2024-03-14T01:27:09.360013Z",
     "shell.execute_reply.started": "2024-03-14T01:27:09.350624Z",
     "shell.execute_reply": "2024-03-14T01:27:09.359109Z"
    },
    "trusted": true
   },
   "execution_count": 17,
   "outputs": []
  },
  {
   "cell_type": "code",
   "source": [
    "set_path('/kaggle/input/it-purple-hack-alpha/')"
   ],
   "metadata": {
    "execution": {
     "iopub.status.busy": "2024-03-14T01:27:10.503705Z",
     "iopub.execute_input": "2024-03-14T01:27:10.504072Z",
     "iopub.status.idle": "2024-03-14T01:27:10.508992Z",
     "shell.execute_reply.started": "2024-03-14T01:27:10.504042Z",
     "shell.execute_reply": "2024-03-14T01:27:10.508012Z"
    },
    "trusted": true
   },
   "execution_count": 18,
   "outputs": []
  },
  {
   "cell_type": "code",
   "source": [
    "import numpy as np\n",
    "import pandas as pd\n",
    "from sklearn.metrics import roc_auc_score\n",
    "\n",
    "def weighted_roc_auc(y_true, y_pred, labels, weights_dict):\n",
    "    unnorm_weights = np.array([weights_dict[label] for label in labels])\n",
    "    weights = unnorm_weights / unnorm_weights.sum()\n",
    "    classes_roc_auc = roc_auc_score(y_true, y_pred, labels=labels,\n",
    "                                    multi_class=\"ovr\", average=None)\n",
    "    \n",
    "    print({labels[i]: classes_roc_auc[i] for i in range(len(labels))})\n",
    "    \n",
    "    return sum(weights * classes_roc_auc)\n",
    "\n",
    "cluster_weights_ = get_cluster_weights()\n",
    "weights_dict_ = cluster_weights_[\"unnorm_weight\"].to_dict()\n",
    "\n",
    "def score(y_true, y_pred):\n",
    "    return weighted_roc_auc(y_true, y_pred, labels=clusters, weights_dict=weights_dict_)"
   ],
   "metadata": {
    "execution": {
     "iopub.status.busy": "2024-03-14T01:27:11.302372Z",
     "iopub.execute_input": "2024-03-14T01:27:11.303072Z",
     "iopub.status.idle": "2024-03-14T01:27:11.335544Z",
     "shell.execute_reply.started": "2024-03-14T01:27:11.303039Z",
     "shell.execute_reply": "2024-03-14T01:27:11.334632Z"
    },
    "trusted": true
   },
   "execution_count": 19,
   "outputs": []
  },
  {
   "cell_type": "code",
   "source": [
    "train = get_train_data()\n",
    "train = train.convert_dtypes()"
   ],
   "metadata": {
    "collapsed": false,
    "ExecuteTime": {
     "end_time": "2024-03-11T18:07:43.823773926Z",
     "start_time": "2024-03-11T18:07:38.993903328Z"
    },
    "jupyter": {
     "outputs_hidden": false
    },
    "execution": {
     "iopub.status.busy": "2024-03-14T01:27:12.061462Z",
     "iopub.execute_input": "2024-03-14T01:27:12.062301Z",
     "iopub.status.idle": "2024-03-14T01:27:26.519304Z",
     "shell.execute_reply.started": "2024-03-14T01:27:12.062265Z",
     "shell.execute_reply": "2024-03-14T01:27:26.518233Z"
    },
    "trusted": true
   },
   "execution_count": 20,
   "outputs": []
  },
  {
   "cell_type": "code",
   "source": [
    "train.head()"
   ],
   "metadata": {
    "collapsed": false,
    "ExecuteTime": {
     "end_time": "2024-03-11T18:07:45.802794721Z",
     "start_time": "2024-03-11T18:07:45.801333300Z"
    },
    "jupyter": {
     "outputs_hidden": false
    },
    "execution": {
     "iopub.status.busy": "2024-03-14T01:27:26.521055Z",
     "iopub.execute_input": "2024-03-14T01:27:26.521348Z",
     "iopub.status.idle": "2024-03-14T01:27:26.550474Z",
     "shell.execute_reply.started": "2024-03-14T01:27:26.521323Z",
     "shell.execute_reply": "2024-03-14T01:27:26.549546Z"
    },
    "trusted": true
   },
   "execution_count": 21,
   "outputs": [
    {
     "execution_count": 21,
     "output_type": "execute_result",
     "data": {
      "text/plain": "   id     date  balance_amt_avg  balance_amt_max  balance_amt_min  \\\n0   0  month_1         0.744845         0.705492         1.287207   \n1   0  month_2         1.049605         0.831916         2.458609   \n2   0  month_3         0.692653         0.740253         0.430042   \n3   1  month_1        -0.081586         -0.09186         -0.11404   \n4   1  month_2        -0.094962        -0.100504        -0.119302   \n\n   balance_amt_day_avg    channel_code     city    city_type  \\\n0             0.748101  channel_code_5  city_23  city_type_0   \n1             1.053805  channel_code_5  city_23  city_type_0   \n2             0.695747  channel_code_5  city_23  city_type_0   \n3             -0.08089  channel_code_2  city_14  city_type_0   \n4            -0.094307  channel_code_2  city_14  city_type_0   \n\n      index_city_code  ...  cnt_cred_g_oper_3m  cnt_days_cred_g_oper_3m  \\\n0  index_city_code_39  ...            0.951166                 0.568681   \n1  index_city_code_39  ...            0.948812                 0.499716   \n2  index_city_code_39  ...            0.946458                 0.442244   \n3                <NA>  ...            0.945281                 0.407762   \n4                <NA>  ...            0.946066                  0.43075   \n\n  sum_deb_h_oper_3m cnt_deb_h_oper_3m  cnt_days_deb_h_oper_3m  \\\n0          0.897565          0.553624                0.774354   \n1          0.785029          0.551904                0.696576   \n2           0.87705          0.551044                0.663243   \n3          0.369318          0.567093                0.785465   \n4          0.067275          0.559928                0.696576   \n\n   sum_cred_h_oper_3m  cnt_cred_h_oper_3m  cnt_days_cred_h_oper_3m  \\\n0            0.936506            0.295984                 0.967947   \n1            0.990157            0.298873                 0.945969   \n2            0.810065            0.294829                 0.956958   \n3           -0.184002            0.253523                 0.462452   \n4           -0.183854            0.255545                 0.495419   \n\n  start_cluster end_cluster  \n0        {α, γ}     {other}  \n1        {α, γ}     {other}  \n2        {α, γ}     {other}  \n3       {other}     {other}  \n4       {other}     {other}  \n\n[5 rows x 93 columns]",
      "text/html": "<div>\n<style scoped>\n    .dataframe tbody tr th:only-of-type {\n        vertical-align: middle;\n    }\n\n    .dataframe tbody tr th {\n        vertical-align: top;\n    }\n\n    .dataframe thead th {\n        text-align: right;\n    }\n</style>\n<table border=\"1\" class=\"dataframe\">\n  <thead>\n    <tr style=\"text-align: right;\">\n      <th></th>\n      <th>id</th>\n      <th>date</th>\n      <th>balance_amt_avg</th>\n      <th>balance_amt_max</th>\n      <th>balance_amt_min</th>\n      <th>balance_amt_day_avg</th>\n      <th>channel_code</th>\n      <th>city</th>\n      <th>city_type</th>\n      <th>index_city_code</th>\n      <th>...</th>\n      <th>cnt_cred_g_oper_3m</th>\n      <th>cnt_days_cred_g_oper_3m</th>\n      <th>sum_deb_h_oper_3m</th>\n      <th>cnt_deb_h_oper_3m</th>\n      <th>cnt_days_deb_h_oper_3m</th>\n      <th>sum_cred_h_oper_3m</th>\n      <th>cnt_cred_h_oper_3m</th>\n      <th>cnt_days_cred_h_oper_3m</th>\n      <th>start_cluster</th>\n      <th>end_cluster</th>\n    </tr>\n  </thead>\n  <tbody>\n    <tr>\n      <th>0</th>\n      <td>0</td>\n      <td>month_1</td>\n      <td>0.744845</td>\n      <td>0.705492</td>\n      <td>1.287207</td>\n      <td>0.748101</td>\n      <td>channel_code_5</td>\n      <td>city_23</td>\n      <td>city_type_0</td>\n      <td>index_city_code_39</td>\n      <td>...</td>\n      <td>0.951166</td>\n      <td>0.568681</td>\n      <td>0.897565</td>\n      <td>0.553624</td>\n      <td>0.774354</td>\n      <td>0.936506</td>\n      <td>0.295984</td>\n      <td>0.967947</td>\n      <td>{α, γ}</td>\n      <td>{other}</td>\n    </tr>\n    <tr>\n      <th>1</th>\n      <td>0</td>\n      <td>month_2</td>\n      <td>1.049605</td>\n      <td>0.831916</td>\n      <td>2.458609</td>\n      <td>1.053805</td>\n      <td>channel_code_5</td>\n      <td>city_23</td>\n      <td>city_type_0</td>\n      <td>index_city_code_39</td>\n      <td>...</td>\n      <td>0.948812</td>\n      <td>0.499716</td>\n      <td>0.785029</td>\n      <td>0.551904</td>\n      <td>0.696576</td>\n      <td>0.990157</td>\n      <td>0.298873</td>\n      <td>0.945969</td>\n      <td>{α, γ}</td>\n      <td>{other}</td>\n    </tr>\n    <tr>\n      <th>2</th>\n      <td>0</td>\n      <td>month_3</td>\n      <td>0.692653</td>\n      <td>0.740253</td>\n      <td>0.430042</td>\n      <td>0.695747</td>\n      <td>channel_code_5</td>\n      <td>city_23</td>\n      <td>city_type_0</td>\n      <td>index_city_code_39</td>\n      <td>...</td>\n      <td>0.946458</td>\n      <td>0.442244</td>\n      <td>0.87705</td>\n      <td>0.551044</td>\n      <td>0.663243</td>\n      <td>0.810065</td>\n      <td>0.294829</td>\n      <td>0.956958</td>\n      <td>{α, γ}</td>\n      <td>{other}</td>\n    </tr>\n    <tr>\n      <th>3</th>\n      <td>1</td>\n      <td>month_1</td>\n      <td>-0.081586</td>\n      <td>-0.09186</td>\n      <td>-0.11404</td>\n      <td>-0.08089</td>\n      <td>channel_code_2</td>\n      <td>city_14</td>\n      <td>city_type_0</td>\n      <td>&lt;NA&gt;</td>\n      <td>...</td>\n      <td>0.945281</td>\n      <td>0.407762</td>\n      <td>0.369318</td>\n      <td>0.567093</td>\n      <td>0.785465</td>\n      <td>-0.184002</td>\n      <td>0.253523</td>\n      <td>0.462452</td>\n      <td>{other}</td>\n      <td>{other}</td>\n    </tr>\n    <tr>\n      <th>4</th>\n      <td>1</td>\n      <td>month_2</td>\n      <td>-0.094962</td>\n      <td>-0.100504</td>\n      <td>-0.119302</td>\n      <td>-0.094307</td>\n      <td>channel_code_2</td>\n      <td>city_14</td>\n      <td>city_type_0</td>\n      <td>&lt;NA&gt;</td>\n      <td>...</td>\n      <td>0.946066</td>\n      <td>0.43075</td>\n      <td>0.067275</td>\n      <td>0.559928</td>\n      <td>0.696576</td>\n      <td>-0.183854</td>\n      <td>0.255545</td>\n      <td>0.495419</td>\n      <td>{other}</td>\n      <td>{other}</td>\n    </tr>\n  </tbody>\n</table>\n<p>5 rows × 93 columns</p>\n</div>"
     },
     "metadata": {}
    }
   ]
  },
  {
   "cell_type": "code",
   "source": [
    "from sklearn.preprocessing import LabelEncoder\n",
    "\n",
    "\n",
    "target_feature = 'end_cluster'\n",
    "to_drop = [\n",
    "    'id', 'date'\n",
    "]\n",
    "\n",
    "\n",
    "class Imputer:\n",
    "    \"\"\"\n",
    "    Класс для удаления нанов и приведения датасета к нормальной форме\n",
    "    \"\"\"\n",
    "\n",
    "    def fit(self, X):\n",
    "        X = X.copy()\n",
    "        self.modes = []\n",
    "        self.number_columns = [column for column in X.select_dtypes('number').columns if column not in to_drop]\n",
    "        self.string_columns = [column for column in X.select_dtypes('string').columns if column not in to_drop]\n",
    "        for column in self.number_columns:\n",
    "            self.modes.append(X[column].mode()[0])\n",
    "        self.les = []\n",
    "        self.top_20s = []\n",
    "        for column in self.string_columns:\n",
    "            X.loc[:, column] = X[column].fillna('')\n",
    "            top_20 = X[column].value_counts().nlargest(20).index\n",
    "            X.loc[:, column] = X[column].where(X[column].isin(top_20), 'Other')\n",
    "            self.top_20s.append(top_20)\n",
    "            self.les.append(LabelEncoder().fit(pd.concat([X[column], pd.Series(['Other'])], axis=0)))\n",
    "        self.modes = np.array(self.modes)\n",
    "\n",
    "    def transform(self, X):\n",
    "        X = X.copy()\n",
    "        for ind, column in enumerate(self.number_columns):\n",
    "            X.loc[:, column] = X[column].fillna(self.modes[ind])\n",
    "        X.loc[:, self.number_columns] = X[self.number_columns].sub(self.modes, axis=1)\n",
    "        for ind, column in enumerate(self.string_columns):\n",
    "            X.loc[:, column] = X[column].fillna('')\n",
    "            X.loc[:, column] = X[column].where(X[column].isin(self.top_20s[ind]), 'Other')\n",
    "        for ind, column in enumerate(self.string_columns):\n",
    "            X.loc[:, column] = self.les[ind].transform(X[column])\n",
    "        return X\n",
    "\n",
    "    def fit_transform(self, X):\n",
    "        self.fit(X)\n",
    "        return self.transform(X)\n",
    "\n",
    "\n",
    "class FeatureExtractor:\n",
    "    \"\"\"\n",
    "    Класс для добавления фич\n",
    "    \"\"\"\n",
    "\n",
    "    def fit(self, X, imputer):\n",
    "        self.imputer = imputer\n",
    "\n",
    "    def transform(self, X, train):\n",
    "        X = X.copy()\n",
    "        \n",
    "        X['is_new'] = 0\n",
    "        if train:\n",
    "            indices = X[X.date == 'month_1'][X.loc[X.date == 'month_1', self.imputer.number_columns].astype(bool).sum(axis=1) == 0].index\n",
    "            new_ids = X.loc[indices, 'id']\n",
    "            X.loc[X['id'].isin(new_ids), 'is_new'] = 1\n",
    "        else:\n",
    "            unique, counts = np.unique(X['id'], return_counts=True)\n",
    "            two_counts = unique[counts == 2]\n",
    "            X.loc[X['id'].isin(two_counts), 'is_new'] = 1\n",
    "        \n",
    "        X['cnt_null_features'] = X[self.imputer.number_columns].astype(bool).sum(axis=1)\n",
    "        \n",
    "        X['line_cnt_e_cnt_g'] = (X['cnt_cred_e_oper_3m'] * 31.25 + X['cnt_cred_g_oper_3m'] - 0.0125 < 0).astype(int)\n",
    "        \n",
    "        X['balance_amt_diff'] = X['balance_amt_max'] - X['balance_amt_min']\n",
    "        X['d_oper_1m_diff'] = X['sum_cred_d_oper_1m'] - X['sum_deb_d_oper_1m']\n",
    "        X['e_oper_1m_diff'] = X['sum_cred_e_oper_1m'] - X['sum_deb_e_oper_1m']\n",
    "        X['f_oper_1m_diff'] = X['sum_cred_f_oper_1m'] - X['sum_deb_f_oper_1m']\n",
    "        X['g_oper_1m_diff'] = X['sum_cred_g_oper_1m'] - X['sum_deb_g_oper_1m']\n",
    "        X['h_oper_1m_diff'] = X['sum_cred_h_oper_1m'] - X['sum_deb_h_oper_1m']\n",
    "        \n",
    "        return X\n",
    "\n",
    "    def fit_transform(self, X, imputer, train):\n",
    "        self.fit(X, imputer)\n",
    "        return self.transform(X, train)\n",
    "\n",
    "\n",
    "additional_cat_features = [\n",
    "    'is_new',\n",
    "    'line_cnt_e_cnt_g'\n",
    "]"
   ],
   "metadata": {
    "collapsed": false,
    "jupyter": {
     "outputs_hidden": false
    },
    "execution": {
     "iopub.status.busy": "2024-03-14T04:20:23.670621Z",
     "iopub.execute_input": "2024-03-14T04:20:23.671571Z",
     "iopub.status.idle": "2024-03-14T04:20:23.692233Z",
     "shell.execute_reply.started": "2024-03-14T04:20:23.671532Z",
     "shell.execute_reply": "2024-03-14T04:20:23.691124Z"
    },
    "trusted": true,
    "ExecuteTime": {
     "end_time": "2024-03-14T04:49:50.651771012Z",
     "start_time": "2024-03-14T04:49:50.427134728Z"
    }
   },
   "execution_count": 1,
   "outputs": []
  },
  {
   "cell_type": "code",
   "source": [
    "def stratified_train_test_split(X, y, test_size, random_state, group):\n",
    "    \"\"\"\n",
    "    Самописный stratified_train_test_split, учитывая, чтобы все id-шники были\n",
    "    в одном датасете (для избежания утечек)\n",
    "    \"\"\"\n",
    "\n",
    "    srt_values = y.value_counts(ascending=True)\n",
    "    \n",
    "    X_srt = pd.concat([X.copy(), y], axis=1)\n",
    "\n",
    "    def srt_func(x):\n",
    "        srt_arr = []\n",
    "        for item in x:\n",
    "            srt_arr.append((srt_values.index.get_loc(item), item))\n",
    "        srt_arr.sort()\n",
    "        return srt_arr[0][1]\n",
    "\n",
    "    X_srt = X_srt.groupby(group).agg(\n",
    "        stratified=(y.name, srt_func)\n",
    "    )\n",
    "\n",
    "    train_inds, test_inds = train_test_split(X_srt, test_size=test_size, random_state=random_state,\n",
    "                                             stratify=X_srt.stratified)\n",
    "    train_inds = train_inds.index\n",
    "    test_inds = test_inds.index\n",
    "    X_train = X[X[group].isin(train_inds)]\n",
    "    X_test = X[X[group].isin(test_inds)]\n",
    "    y_train = y.loc[X_train.index]\n",
    "    y_test = y.loc[X_test.index]\n",
    "\n",
    "    return X_train, X_test, y_train, y_test"
   ],
   "metadata": {
    "execution": {
     "iopub.status.busy": "2024-03-14T04:02:13.972633Z",
     "iopub.execute_input": "2024-03-14T04:02:13.973320Z",
     "iopub.status.idle": "2024-03-14T04:02:13.982096Z",
     "shell.execute_reply.started": "2024-03-14T04:02:13.973286Z",
     "shell.execute_reply": "2024-03-14T04:02:13.981098Z"
    },
    "trusted": true,
    "ExecuteTime": {
     "end_time": "2024-03-14T04:49:50.667141875Z",
     "start_time": "2024-03-14T04:49:50.651961264Z"
    }
   },
   "execution_count": 2,
   "outputs": []
  },
  {
   "cell_type": "code",
   "source": [
    "def stratified_k_fold(X, y, n_splits, random_state, group):\n",
    "    \"\"\"\n",
    "    Самописный stratified_k_fold, учитывая, чтобы все id-шники были\n",
    "    в одном датасете (для избежания утечек)\n",
    "    \"\"\"\n",
    "\n",
    "    srt_values = y.value_counts(ascending=True)\n",
    "    \n",
    "    X_srt = pd.concat([X.copy(), y], axis=1)\n",
    "\n",
    "    def srt_func(x):\n",
    "        srt_arr = []\n",
    "        for item in x:\n",
    "            srt_arr.append((srt_values.index.get_loc(item), item))\n",
    "        srt_arr.sort()\n",
    "        return srt_arr[0][1]\n",
    "\n",
    "    X_srt = X_srt.groupby(group).agg(\n",
    "        stratified=(y.name, srt_func)\n",
    "    )\n",
    "    \n",
    "    kf = StratifiedKFold(n_splits=n_splits, shuffle=True, random_state=random_state)\n",
    "    for train_inds, test_inds in kf.split(X=X_srt, y=X_srt.stratified):\n",
    "        X_train = X[X[group].isin(train_inds)]\n",
    "        X_test = X[X[group].isin(test_inds)]\n",
    "        y_train = y.loc[X_train.index]\n",
    "        y_test = y.loc[X_test.index]\n",
    "        yield X_train, X_test, y_train, y_test"
   ],
   "metadata": {
    "collapsed": false,
    "ExecuteTime": {
     "end_time": "2024-03-11T18:07:54.803943093Z",
     "start_time": "2024-03-11T18:07:54.800666001Z"
    },
    "jupyter": {
     "outputs_hidden": false
    },
    "execution": {
     "iopub.status.busy": "2024-03-14T04:02:14.779331Z",
     "iopub.execute_input": "2024-03-14T04:02:14.779692Z",
     "iopub.status.idle": "2024-03-14T04:02:14.788578Z",
     "shell.execute_reply.started": "2024-03-14T04:02:14.779664Z",
     "shell.execute_reply": "2024-03-14T04:02:14.787454Z"
    },
    "trusted": true
   },
   "execution_count": 87,
   "outputs": []
  },
  {
   "cell_type": "code",
   "source": [
    "from catboost import CatBoostClassifier\n",
    "\n",
    "\n",
    "class CatboostEstimator:\n",
    "    \"\"\"\n",
    "    Класс для обучения Catboost\n",
    "    \"\"\"\n",
    "\n",
    "    def fit(self, X, y, n_splits, cat_features, to_drop):\n",
    "        self.one_model = False\n",
    "        self.models = []\n",
    "        scores = []\n",
    "        for ind, (X_train, X_val, y_train, y_val) in enumerate(stratified_k_fold(X, y, n_splits,\n",
    "                                                                                 random_state=42,\n",
    "                                                                                 group='id')):\n",
    "            X_train = X_train.drop(to_drop, axis=1)\n",
    "            X_val = X_val.drop(to_drop, axis=1)\n",
    "            \n",
    "            model = CatBoostClassifier(cat_features=cat_features, verbose=500,\n",
    "                                       loss_function='MultiClassOneVsAll',\n",
    "                                       eval_metric='AUC', task_type='GPU',\n",
    "                                       iterations=2000)\n",
    "        \n",
    "            model.fit(X_train, y_train, verbose=500, eval_set=(X_val, y_val))\n",
    "            \n",
    "            self.models.append(model)\n",
    "            y_pred = model.predict_proba(X_val)\n",
    "            scores.append(score(y_val, y_pred / y_pred.sum(axis=1).reshape(-1, 1)))\n",
    "            print(f'model {ind}: score = {scores[-1].round(4)}')\n",
    "        \n",
    "        scores = np.array(scores)\n",
    "        print(f'mean score = {scores.mean().round(4)}, std = {scores.std().round(4)}')\n",
    "        print(f'overall score = {(scores.mean() - scores.std()).round(4)}')\n",
    "            \n",
    "    \n",
    "    def fit_select_features(self, X, y, cat_features, to_drop):\n",
    "        self.one_model = True\n",
    "        \n",
    "        X_train, X_val, y_train, y_val = stratified_train_test_split(X,\n",
    "                                                                     y,\n",
    "                                                                     test_size=0.2,\n",
    "                                                                     random_state=42,\n",
    "                                                                     group='id')\n",
    "        X_train = X_train.drop(to_drop, axis=1)\n",
    "        X_val = X_val.drop(to_drop, axis=1)\n",
    "        \n",
    "        self.model = CatBoostClassifier(cat_features=cat_features, verbose=150,\n",
    "                                        loss_function='MultiClassOneVsAll',\n",
    "                                        eval_metric='AUC', task_type='GPU',\n",
    "                                       iterations=2000)\n",
    "        \n",
    "        self.model.select_features(X_train, y_train, verbose=500, eval_set=(X_val, y_val), steps=10,\n",
    "                                  num_features_to_select=30, features_for_select=X.columns,\n",
    "                                  algorithm='RecursiveByLossFunctionChange', train_final_model=True)\n",
    "\n",
    "    def predict(self, X):\n",
    "        if self.one_model:\n",
    "            return self.model.predict_proba(X)\n",
    "        \n",
    "        cnt_classes = len(clusters)\n",
    "        y_pred = np.zeros((X.shape[0], cnt_classes))\n",
    "\n",
    "        for model in self.models:\n",
    "            y_pred += model.predict_proba(X)\n",
    "        y_pred /= cnt_classes\n",
    "        \n",
    "        return y_pred"
   ],
   "metadata": {
    "collapsed": false,
    "jupyter": {
     "outputs_hidden": false
    },
    "execution": {
     "iopub.status.busy": "2024-03-14T04:02:15.301589Z",
     "iopub.execute_input": "2024-03-14T04:02:15.302118Z",
     "iopub.status.idle": "2024-03-14T04:02:15.317020Z",
     "shell.execute_reply.started": "2024-03-14T04:02:15.302089Z",
     "shell.execute_reply": "2024-03-14T04:02:15.316195Z"
    },
    "trusted": true,
    "ExecuteTime": {
     "end_time": "2024-03-14T04:53:36.419624372Z",
     "start_time": "2024-03-14T04:53:36.209960192Z"
    }
   },
   "execution_count": 3,
   "outputs": []
  },
  {
   "cell_type": "code",
   "source": [
    "from lightgbm import LGBMClassifier\n",
    "\n",
    "\n",
    "class LightGBMEstimator:\n",
    "    \"\"\"\n",
    "    Класс для обучения LightGBM\n",
    "    \"\"\"\n",
    "\n",
    "    def fit(self, X, y, n_splits, cat_features, to_drop):\n",
    "        self.models = []\n",
    "        scores = []\n",
    "        for ind, (X_train, X_val, y_train, y_val) in enumerate(stratified_k_fold(X, y, n_splits,\n",
    "                                                                                 random_state=42,\n",
    "                                                                                 group='id')):\n",
    "            X_train = X_train.drop(to_drop, axis=1)\n",
    "            X_val = X_val.drop(to_drop, axis=1)\n",
    "            \n",
    "            model = LGBMClassifier(\n",
    "                objective=\"multiclass\",\n",
    "                metric='multi_logloss',\n",
    "                n_estimators=10,\n",
    "                num_class=len(clusters),\n",
    "                seed=42,\n",
    "                cat_feature=[X_train.columns.get_loc(c) for c in cat_features]\n",
    "            )\n",
    "            \n",
    "            model.fit(\n",
    "                X_train,\n",
    "                y_train,\n",
    "                eval_set=[(X_val, y_val)]\n",
    "            )\n",
    "            \n",
    "            self.models.append(model)\n",
    "            y_pred = model.predict_proba(X_val)\n",
    "            scores.append(score(y_val, y_pred / y_pred.sum(axis=1).reshape(-1, 1)))\n",
    "            print(f'model {ind}: score = {scores[-1].round(4)}')\n",
    "        \n",
    "        scores = np.array(scores)\n",
    "        print(f'mean score = {scores.mean().round(4)}, std = {scores.std().round(4)}')\n",
    "        print(f'overall score = {(scores.mean() - scores.std()).round(4)}')\n",
    "\n",
    "    def predict(self, X):\n",
    "        \n",
    "        cnt_classes = len(clusters)\n",
    "        y_pred = np.zeros((X.shape[0], cnt_classes))\n",
    "\n",
    "        for model in self.models:\n",
    "            y_pred += model.predict_proba(X)\n",
    "        y_pred /= cnt_classes\n",
    "        \n",
    "        return y_pred"
   ],
   "metadata": {
    "execution": {
     "iopub.status.busy": "2024-03-14T04:11:46.217060Z",
     "iopub.execute_input": "2024-03-14T04:11:46.217660Z",
     "iopub.status.idle": "2024-03-14T04:11:46.228707Z",
     "shell.execute_reply.started": "2024-03-14T04:11:46.217627Z",
     "shell.execute_reply": "2024-03-14T04:11:46.227820Z"
    },
    "trusted": true,
    "ExecuteTime": {
     "end_time": "2024-03-14T04:53:44.206524172Z",
     "start_time": "2024-03-14T04:53:36.419895358Z"
    }
   },
   "execution_count": 4,
   "outputs": [
    {
     "ename": "AttributeError",
     "evalue": "module 'pandas.core.strings' has no attribute 'StringMethods'",
     "output_type": "error",
     "traceback": [
      "\u001B[0;31m---------------------------------------------------------------------------\u001B[0m",
      "\u001B[0;31mAttributeError\u001B[0m                            Traceback (most recent call last)",
      "Cell \u001B[0;32mIn[4], line 1\u001B[0m\n\u001B[0;32m----> 1\u001B[0m \u001B[38;5;28;01mfrom\u001B[39;00m \u001B[38;5;21;01mlightgbm\u001B[39;00m \u001B[38;5;28;01mimport\u001B[39;00m LGBMClassifier\n\u001B[1;32m      4\u001B[0m \u001B[38;5;28;01mclass\u001B[39;00m \u001B[38;5;21;01mLightGBMEstimator\u001B[39;00m:\n\u001B[1;32m      5\u001B[0m     \u001B[38;5;28;01mdef\u001B[39;00m \u001B[38;5;21mfit\u001B[39m(\u001B[38;5;28mself\u001B[39m, X, y, n_splits, cat_features, to_drop):\n",
      "File \u001B[0;32m~/anaconda3/lib/python3.10/site-packages/lightgbm/__init__.py:8\u001B[0m\n\u001B[1;32m      2\u001B[0m \u001B[38;5;124;03m\"\"\"LightGBM, Light Gradient Boosting Machine.\u001B[39;00m\n\u001B[1;32m      3\u001B[0m \n\u001B[1;32m      4\u001B[0m \u001B[38;5;124;03mContributors: https://github.com/microsoft/LightGBM/graphs/contributors.\u001B[39;00m\n\u001B[1;32m      5\u001B[0m \u001B[38;5;124;03m\"\"\"\u001B[39;00m\n\u001B[1;32m      6\u001B[0m \u001B[38;5;28;01mfrom\u001B[39;00m \u001B[38;5;21;01mpathlib\u001B[39;00m \u001B[38;5;28;01mimport\u001B[39;00m Path\n\u001B[0;32m----> 8\u001B[0m \u001B[38;5;28;01mfrom\u001B[39;00m \u001B[38;5;21;01m.\u001B[39;00m\u001B[38;5;21;01mbasic\u001B[39;00m \u001B[38;5;28;01mimport\u001B[39;00m Booster, Dataset, Sequence, register_logger\n\u001B[1;32m      9\u001B[0m \u001B[38;5;28;01mfrom\u001B[39;00m \u001B[38;5;21;01m.\u001B[39;00m\u001B[38;5;21;01mcallback\u001B[39;00m \u001B[38;5;28;01mimport\u001B[39;00m early_stopping, log_evaluation, record_evaluation, reset_parameter\n\u001B[1;32m     10\u001B[0m \u001B[38;5;28;01mfrom\u001B[39;00m \u001B[38;5;21;01m.\u001B[39;00m\u001B[38;5;21;01mengine\u001B[39;00m \u001B[38;5;28;01mimport\u001B[39;00m CVBooster, cv, train\n",
      "File \u001B[0;32m~/anaconda3/lib/python3.10/site-packages/lightgbm/basic.py:21\u001B[0m\n\u001B[1;32m     18\u001B[0m \u001B[38;5;28;01mimport\u001B[39;00m \u001B[38;5;21;01mnumpy\u001B[39;00m \u001B[38;5;28;01mas\u001B[39;00m \u001B[38;5;21;01mnp\u001B[39;00m\n\u001B[1;32m     19\u001B[0m \u001B[38;5;28;01mimport\u001B[39;00m \u001B[38;5;21;01mscipy\u001B[39;00m\u001B[38;5;21;01m.\u001B[39;00m\u001B[38;5;21;01msparse\u001B[39;00m\n\u001B[0;32m---> 21\u001B[0m \u001B[38;5;28;01mfrom\u001B[39;00m \u001B[38;5;21;01m.\u001B[39;00m\u001B[38;5;21;01mcompat\u001B[39;00m \u001B[38;5;28;01mimport\u001B[39;00m PANDAS_INSTALLED, concat, dt_DataTable, pd_CategoricalDtype, pd_DataFrame, pd_Series\n\u001B[1;32m     22\u001B[0m \u001B[38;5;28;01mfrom\u001B[39;00m \u001B[38;5;21;01m.\u001B[39;00m\u001B[38;5;21;01mlibpath\u001B[39;00m \u001B[38;5;28;01mimport\u001B[39;00m find_lib_path\n\u001B[1;32m     24\u001B[0m \u001B[38;5;28;01mif\u001B[39;00m TYPE_CHECKING:\n",
      "File \u001B[0;32m~/anaconda3/lib/python3.10/site-packages/lightgbm/compat.py:145\u001B[0m\n\u001B[1;32m    143\u001B[0m \u001B[38;5;28;01mfrom\u001B[39;00m \u001B[38;5;21;01mdask\u001B[39;00m\u001B[38;5;21;01m.\u001B[39;00m\u001B[38;5;21;01marray\u001B[39;00m \u001B[38;5;28;01mimport\u001B[39;00m from_delayed \u001B[38;5;28;01mas\u001B[39;00m dask_array_from_delayed\n\u001B[1;32m    144\u001B[0m \u001B[38;5;28;01mfrom\u001B[39;00m \u001B[38;5;21;01mdask\u001B[39;00m\u001B[38;5;21;01m.\u001B[39;00m\u001B[38;5;21;01mbag\u001B[39;00m \u001B[38;5;28;01mimport\u001B[39;00m from_delayed \u001B[38;5;28;01mas\u001B[39;00m dask_bag_from_delayed\n\u001B[0;32m--> 145\u001B[0m \u001B[38;5;28;01mfrom\u001B[39;00m \u001B[38;5;21;01mdask\u001B[39;00m\u001B[38;5;21;01m.\u001B[39;00m\u001B[38;5;21;01mdataframe\u001B[39;00m \u001B[38;5;28;01mimport\u001B[39;00m DataFrame \u001B[38;5;28;01mas\u001B[39;00m dask_DataFrame\n\u001B[1;32m    146\u001B[0m \u001B[38;5;28;01mfrom\u001B[39;00m \u001B[38;5;21;01mdask\u001B[39;00m\u001B[38;5;21;01m.\u001B[39;00m\u001B[38;5;21;01mdataframe\u001B[39;00m \u001B[38;5;28;01mimport\u001B[39;00m Series \u001B[38;5;28;01mas\u001B[39;00m dask_Series\n\u001B[1;32m    147\u001B[0m \u001B[38;5;28;01mfrom\u001B[39;00m \u001B[38;5;21;01mdask\u001B[39;00m\u001B[38;5;21;01m.\u001B[39;00m\u001B[38;5;21;01mdistributed\u001B[39;00m \u001B[38;5;28;01mimport\u001B[39;00m Client, Future, default_client, wait\n",
      "File \u001B[0;32m~/anaconda3/lib/python3.10/site-packages/dask/dataframe/__init__.py:4\u001B[0m\n\u001B[1;32m      2\u001B[0m \u001B[38;5;28;01mimport\u001B[39;00m \u001B[38;5;21;01mdask\u001B[39;00m\u001B[38;5;21;01m.\u001B[39;00m\u001B[38;5;21;01mdataframe\u001B[39;00m\u001B[38;5;21;01m.\u001B[39;00m\u001B[38;5;21;01m_pyarrow_compat\u001B[39;00m\n\u001B[1;32m      3\u001B[0m \u001B[38;5;28;01mfrom\u001B[39;00m \u001B[38;5;21;01mdask\u001B[39;00m\u001B[38;5;21;01m.\u001B[39;00m\u001B[38;5;21;01mbase\u001B[39;00m \u001B[38;5;28;01mimport\u001B[39;00m compute\n\u001B[0;32m----> 4\u001B[0m \u001B[38;5;28;01mfrom\u001B[39;00m \u001B[38;5;21;01mdask\u001B[39;00m\u001B[38;5;21;01m.\u001B[39;00m\u001B[38;5;21;01mdataframe\u001B[39;00m \u001B[38;5;28;01mimport\u001B[39;00m backends, dispatch, rolling\n\u001B[1;32m      5\u001B[0m \u001B[38;5;28;01mfrom\u001B[39;00m \u001B[38;5;21;01mdask\u001B[39;00m\u001B[38;5;21;01m.\u001B[39;00m\u001B[38;5;21;01mdataframe\u001B[39;00m\u001B[38;5;21;01m.\u001B[39;00m\u001B[38;5;21;01mcore\u001B[39;00m \u001B[38;5;28;01mimport\u001B[39;00m (\n\u001B[1;32m      6\u001B[0m     DataFrame,\n\u001B[1;32m      7\u001B[0m     Index,\n\u001B[0;32m   (...)\u001B[0m\n\u001B[1;32m     13\u001B[0m     to_timedelta,\n\u001B[1;32m     14\u001B[0m )\n\u001B[1;32m     15\u001B[0m \u001B[38;5;28;01mfrom\u001B[39;00m \u001B[38;5;21;01mdask\u001B[39;00m\u001B[38;5;21;01m.\u001B[39;00m\u001B[38;5;21;01mdataframe\u001B[39;00m\u001B[38;5;21;01m.\u001B[39;00m\u001B[38;5;21;01mgroupby\u001B[39;00m \u001B[38;5;28;01mimport\u001B[39;00m Aggregation\n",
      "File \u001B[0;32m~/anaconda3/lib/python3.10/site-packages/dask/dataframe/backends.py:20\u001B[0m\n\u001B[1;32m     18\u001B[0m \u001B[38;5;28;01mfrom\u001B[39;00m \u001B[38;5;21;01mdask\u001B[39;00m\u001B[38;5;21;01m.\u001B[39;00m\u001B[38;5;21;01marray\u001B[39;00m\u001B[38;5;21;01m.\u001B[39;00m\u001B[38;5;21;01mdispatch\u001B[39;00m \u001B[38;5;28;01mimport\u001B[39;00m percentile_lookup\n\u001B[1;32m     19\u001B[0m \u001B[38;5;28;01mfrom\u001B[39;00m \u001B[38;5;21;01mdask\u001B[39;00m\u001B[38;5;21;01m.\u001B[39;00m\u001B[38;5;21;01marray\u001B[39;00m\u001B[38;5;21;01m.\u001B[39;00m\u001B[38;5;21;01mpercentile\u001B[39;00m \u001B[38;5;28;01mimport\u001B[39;00m _percentile\n\u001B[0;32m---> 20\u001B[0m \u001B[38;5;28;01mfrom\u001B[39;00m \u001B[38;5;21;01mdask\u001B[39;00m\u001B[38;5;21;01m.\u001B[39;00m\u001B[38;5;21;01mdataframe\u001B[39;00m\u001B[38;5;21;01m.\u001B[39;00m\u001B[38;5;21;01mcore\u001B[39;00m \u001B[38;5;28;01mimport\u001B[39;00m DataFrame, Index, Scalar, Series, _Frame\n\u001B[1;32m     21\u001B[0m \u001B[38;5;28;01mfrom\u001B[39;00m \u001B[38;5;21;01mdask\u001B[39;00m\u001B[38;5;21;01m.\u001B[39;00m\u001B[38;5;21;01mdataframe\u001B[39;00m\u001B[38;5;21;01m.\u001B[39;00m\u001B[38;5;21;01mdispatch\u001B[39;00m \u001B[38;5;28;01mimport\u001B[39;00m (\n\u001B[1;32m     22\u001B[0m     categorical_dtype_dispatch,\n\u001B[1;32m     23\u001B[0m     concat,\n\u001B[0;32m   (...)\u001B[0m\n\u001B[1;32m     35\u001B[0m     union_categoricals_dispatch,\n\u001B[1;32m     36\u001B[0m )\n\u001B[1;32m     37\u001B[0m \u001B[38;5;28;01mfrom\u001B[39;00m \u001B[38;5;21;01mdask\u001B[39;00m\u001B[38;5;21;01m.\u001B[39;00m\u001B[38;5;21;01mdataframe\u001B[39;00m\u001B[38;5;21;01m.\u001B[39;00m\u001B[38;5;21;01mextensions\u001B[39;00m \u001B[38;5;28;01mimport\u001B[39;00m make_array_nonempty, make_scalar\n",
      "File \u001B[0;32m~/anaconda3/lib/python3.10/site-packages/dask/dataframe/core.py:35\u001B[0m\n\u001B[1;32m     33\u001B[0m \u001B[38;5;28;01mfrom\u001B[39;00m \u001B[38;5;21;01mdask\u001B[39;00m\u001B[38;5;21;01m.\u001B[39;00m\u001B[38;5;21;01mblockwise\u001B[39;00m \u001B[38;5;28;01mimport\u001B[39;00m Blockwise, BlockwiseDep, BlockwiseDepDict, blockwise\n\u001B[1;32m     34\u001B[0m \u001B[38;5;28;01mfrom\u001B[39;00m \u001B[38;5;21;01mdask\u001B[39;00m\u001B[38;5;21;01m.\u001B[39;00m\u001B[38;5;21;01mcontext\u001B[39;00m \u001B[38;5;28;01mimport\u001B[39;00m globalmethod\n\u001B[0;32m---> 35\u001B[0m \u001B[38;5;28;01mfrom\u001B[39;00m \u001B[38;5;21;01mdask\u001B[39;00m\u001B[38;5;21;01m.\u001B[39;00m\u001B[38;5;21;01mdataframe\u001B[39;00m \u001B[38;5;28;01mimport\u001B[39;00m methods\n\u001B[1;32m     36\u001B[0m \u001B[38;5;28;01mfrom\u001B[39;00m \u001B[38;5;21;01mdask\u001B[39;00m\u001B[38;5;21;01m.\u001B[39;00m\u001B[38;5;21;01mdataframe\u001B[39;00m\u001B[38;5;21;01m.\u001B[39;00m\u001B[38;5;21;01m_compat\u001B[39;00m \u001B[38;5;28;01mimport\u001B[39;00m PANDAS_GT_140, PANDAS_GT_150\n\u001B[1;32m     37\u001B[0m \u001B[38;5;28;01mfrom\u001B[39;00m \u001B[38;5;21;01mdask\u001B[39;00m\u001B[38;5;21;01m.\u001B[39;00m\u001B[38;5;21;01mdataframe\u001B[39;00m\u001B[38;5;21;01m.\u001B[39;00m\u001B[38;5;21;01maccessor\u001B[39;00m \u001B[38;5;28;01mimport\u001B[39;00m CachedAccessor, DatetimeAccessor, StringAccessor\n",
      "File \u001B[0;32m~/anaconda3/lib/python3.10/site-packages/dask/dataframe/methods.py:22\u001B[0m\n\u001B[1;32m     10\u001B[0m \u001B[38;5;66;03m#  preserve compatibility while moving dispatch objects\u001B[39;00m\n\u001B[1;32m     11\u001B[0m \u001B[38;5;28;01mfrom\u001B[39;00m \u001B[38;5;21;01mdask\u001B[39;00m\u001B[38;5;21;01m.\u001B[39;00m\u001B[38;5;21;01mdataframe\u001B[39;00m\u001B[38;5;21;01m.\u001B[39;00m\u001B[38;5;21;01mdispatch\u001B[39;00m \u001B[38;5;28;01mimport\u001B[39;00m (  \u001B[38;5;66;03m# noqa: F401\u001B[39;00m\n\u001B[1;32m     12\u001B[0m     concat,\n\u001B[1;32m     13\u001B[0m     concat_dispatch,\n\u001B[0;32m   (...)\u001B[0m\n\u001B[1;32m     20\u001B[0m     union_categoricals,\n\u001B[1;32m     21\u001B[0m )\n\u001B[0;32m---> 22\u001B[0m \u001B[38;5;28;01mfrom\u001B[39;00m \u001B[38;5;21;01mdask\u001B[39;00m\u001B[38;5;21;01m.\u001B[39;00m\u001B[38;5;21;01mdataframe\u001B[39;00m\u001B[38;5;21;01m.\u001B[39;00m\u001B[38;5;21;01mutils\u001B[39;00m \u001B[38;5;28;01mimport\u001B[39;00m is_dataframe_like, is_index_like, is_series_like\n\u001B[1;32m     24\u001B[0m \u001B[38;5;66;03m# cuDF may try to import old dispatch functions\u001B[39;00m\n\u001B[1;32m     25\u001B[0m hash_df \u001B[38;5;241m=\u001B[39m hash_object_dispatch\n",
      "File \u001B[0;32m~/anaconda3/lib/python3.10/site-packages/dask/dataframe/utils.py:18\u001B[0m\n\u001B[1;32m     16\u001B[0m \u001B[38;5;28;01mfrom\u001B[39;00m \u001B[38;5;21;01mdask\u001B[39;00m\u001B[38;5;21;01m.\u001B[39;00m\u001B[38;5;21;01mbase\u001B[39;00m \u001B[38;5;28;01mimport\u001B[39;00m get_scheduler, is_dask_collection\n\u001B[1;32m     17\u001B[0m \u001B[38;5;28;01mfrom\u001B[39;00m \u001B[38;5;21;01mdask\u001B[39;00m\u001B[38;5;21;01m.\u001B[39;00m\u001B[38;5;21;01mcore\u001B[39;00m \u001B[38;5;28;01mimport\u001B[39;00m get_deps\n\u001B[0;32m---> 18\u001B[0m \u001B[38;5;28;01mfrom\u001B[39;00m \u001B[38;5;21;01mdask\u001B[39;00m\u001B[38;5;21;01m.\u001B[39;00m\u001B[38;5;21;01mdataframe\u001B[39;00m \u001B[38;5;28;01mimport\u001B[39;00m (  \u001B[38;5;66;03m# noqa: F401 register pandas extension types\u001B[39;00m\n\u001B[1;32m     19\u001B[0m     _dtypes,\n\u001B[1;32m     20\u001B[0m     methods,\n\u001B[1;32m     21\u001B[0m )\n\u001B[1;32m     22\u001B[0m \u001B[38;5;28;01mfrom\u001B[39;00m \u001B[38;5;21;01mdask\u001B[39;00m\u001B[38;5;21;01m.\u001B[39;00m\u001B[38;5;21;01mdataframe\u001B[39;00m\u001B[38;5;21;01m.\u001B[39;00m\u001B[38;5;21;01m_compat\u001B[39;00m \u001B[38;5;28;01mimport\u001B[39;00m PANDAS_GT_110, PANDAS_GT_120, tm  \u001B[38;5;66;03m# noqa: F401\u001B[39;00m\n\u001B[1;32m     23\u001B[0m \u001B[38;5;28;01mfrom\u001B[39;00m \u001B[38;5;21;01mdask\u001B[39;00m\u001B[38;5;21;01m.\u001B[39;00m\u001B[38;5;21;01mdataframe\u001B[39;00m\u001B[38;5;21;01m.\u001B[39;00m\u001B[38;5;21;01mdispatch\u001B[39;00m \u001B[38;5;28;01mimport\u001B[39;00m (  \u001B[38;5;66;03m# noqa : F401\u001B[39;00m\n\u001B[1;32m     24\u001B[0m     make_meta,\n\u001B[1;32m     25\u001B[0m     make_meta_obj,\n\u001B[1;32m     26\u001B[0m     meta_nonempty,\n\u001B[1;32m     27\u001B[0m )\n",
      "File \u001B[0;32m~/anaconda3/lib/python3.10/site-packages/dask/dataframe/_dtypes.py:3\u001B[0m\n\u001B[1;32m      1\u001B[0m \u001B[38;5;28;01mimport\u001B[39;00m \u001B[38;5;21;01mpandas\u001B[39;00m \u001B[38;5;28;01mas\u001B[39;00m \u001B[38;5;21;01mpd\u001B[39;00m\n\u001B[0;32m----> 3\u001B[0m \u001B[38;5;28;01mfrom\u001B[39;00m \u001B[38;5;21;01mdask\u001B[39;00m\u001B[38;5;21;01m.\u001B[39;00m\u001B[38;5;21;01mdataframe\u001B[39;00m\u001B[38;5;21;01m.\u001B[39;00m\u001B[38;5;21;01mextensions\u001B[39;00m \u001B[38;5;28;01mimport\u001B[39;00m make_array_nonempty, make_scalar\n\u001B[1;32m      6\u001B[0m \u001B[38;5;129m@make_array_nonempty\u001B[39m\u001B[38;5;241m.\u001B[39mregister(pd\u001B[38;5;241m.\u001B[39mDatetimeTZDtype)\n\u001B[1;32m      7\u001B[0m \u001B[38;5;28;01mdef\u001B[39;00m \u001B[38;5;21m_\u001B[39m(dtype):\n\u001B[1;32m      8\u001B[0m     \u001B[38;5;28;01mreturn\u001B[39;00m pd\u001B[38;5;241m.\u001B[39marray([pd\u001B[38;5;241m.\u001B[39mTimestamp(\u001B[38;5;241m1\u001B[39m), pd\u001B[38;5;241m.\u001B[39mNaT], dtype\u001B[38;5;241m=\u001B[39mdtype)\n",
      "File \u001B[0;32m~/anaconda3/lib/python3.10/site-packages/dask/dataframe/extensions.py:6\u001B[0m\n\u001B[1;32m      1\u001B[0m \u001B[38;5;124;03m\"\"\"\u001B[39;00m\n\u001B[1;32m      2\u001B[0m \u001B[38;5;124;03mSupport for pandas ExtensionArray in dask.dataframe.\u001B[39;00m\n\u001B[1;32m      3\u001B[0m \n\u001B[1;32m      4\u001B[0m \u001B[38;5;124;03mSee :ref:`extensionarrays` for more.\u001B[39;00m\n\u001B[1;32m      5\u001B[0m \u001B[38;5;124;03m\"\"\"\u001B[39;00m\n\u001B[0;32m----> 6\u001B[0m \u001B[38;5;28;01mfrom\u001B[39;00m \u001B[38;5;21;01mdask\u001B[39;00m\u001B[38;5;21;01m.\u001B[39;00m\u001B[38;5;21;01mdataframe\u001B[39;00m\u001B[38;5;21;01m.\u001B[39;00m\u001B[38;5;21;01maccessor\u001B[39;00m \u001B[38;5;28;01mimport\u001B[39;00m (\n\u001B[1;32m      7\u001B[0m     register_dataframe_accessor,\n\u001B[1;32m      8\u001B[0m     register_index_accessor,\n\u001B[1;32m      9\u001B[0m     register_series_accessor,\n\u001B[1;32m     10\u001B[0m )\n\u001B[1;32m     11\u001B[0m \u001B[38;5;28;01mfrom\u001B[39;00m \u001B[38;5;21;01mdask\u001B[39;00m\u001B[38;5;21;01m.\u001B[39;00m\u001B[38;5;21;01mutils\u001B[39;00m \u001B[38;5;28;01mimport\u001B[39;00m Dispatch\n\u001B[1;32m     13\u001B[0m make_array_nonempty \u001B[38;5;241m=\u001B[39m Dispatch(\u001B[38;5;124m\"\u001B[39m\u001B[38;5;124mmake_array_nonempty\u001B[39m\u001B[38;5;124m\"\u001B[39m)\n",
      "File \u001B[0;32m~/anaconda3/lib/python3.10/site-packages/dask/dataframe/accessor.py:190\u001B[0m\n\u001B[1;32m    129\u001B[0m     _accessor_methods \u001B[38;5;241m=\u001B[39m (\n\u001B[1;32m    130\u001B[0m         \u001B[38;5;124m\"\u001B[39m\u001B[38;5;124masfreq\u001B[39m\u001B[38;5;124m\"\u001B[39m,\n\u001B[1;32m    131\u001B[0m         \u001B[38;5;124m\"\u001B[39m\u001B[38;5;124mceil\u001B[39m\u001B[38;5;124m\"\u001B[39m,\n\u001B[0;32m   (...)\u001B[0m\n\u001B[1;32m    145\u001B[0m         \u001B[38;5;124m\"\u001B[39m\u001B[38;5;124mtz_localize\u001B[39m\u001B[38;5;124m\"\u001B[39m,\n\u001B[1;32m    146\u001B[0m     )\n\u001B[1;32m    148\u001B[0m     _accessor_properties \u001B[38;5;241m=\u001B[39m (\n\u001B[1;32m    149\u001B[0m         \u001B[38;5;124m\"\u001B[39m\u001B[38;5;124mcomponents\u001B[39m\u001B[38;5;124m\"\u001B[39m,\n\u001B[1;32m    150\u001B[0m         \u001B[38;5;124m\"\u001B[39m\u001B[38;5;124mdate\u001B[39m\u001B[38;5;124m\"\u001B[39m,\n\u001B[0;32m   (...)\u001B[0m\n\u001B[1;32m    186\u001B[0m         \u001B[38;5;124m\"\u001B[39m\u001B[38;5;124myear\u001B[39m\u001B[38;5;124m\"\u001B[39m,\n\u001B[1;32m    187\u001B[0m     )\n\u001B[0;32m--> 190\u001B[0m \u001B[38;5;28;01mclass\u001B[39;00m \u001B[38;5;21;01mStringAccessor\u001B[39;00m(Accessor):\n\u001B[1;32m    191\u001B[0m \u001B[38;5;250m    \u001B[39m\u001B[38;5;124;03m\"\"\"Accessor object for string properties of the Series values.\u001B[39;00m\n\u001B[1;32m    192\u001B[0m \n\u001B[1;32m    193\u001B[0m \u001B[38;5;124;03m    Examples\u001B[39;00m\n\u001B[0;32m   (...)\u001B[0m\n\u001B[1;32m    196\u001B[0m \u001B[38;5;124;03m    >>> s.str.lower()  # doctest: +SKIP\u001B[39;00m\n\u001B[1;32m    197\u001B[0m \u001B[38;5;124;03m    \"\"\"\u001B[39;00m\n\u001B[1;32m    199\u001B[0m     _accessor_name \u001B[38;5;241m=\u001B[39m \u001B[38;5;124m\"\u001B[39m\u001B[38;5;124mstr\u001B[39m\u001B[38;5;124m\"\u001B[39m\n",
      "File \u001B[0;32m~/anaconda3/lib/python3.10/site-packages/dask/dataframe/accessor.py:276\u001B[0m, in \u001B[0;36mStringAccessor\u001B[0;34m()\u001B[0m\n\u001B[1;32m    272\u001B[0m         meta \u001B[38;5;241m=\u001B[39m (\u001B[38;5;28mself\u001B[39m\u001B[38;5;241m.\u001B[39m_series\u001B[38;5;241m.\u001B[39mname, \u001B[38;5;28mobject\u001B[39m)\n\u001B[1;32m    273\u001B[0m     \u001B[38;5;28;01mreturn\u001B[39;00m \u001B[38;5;28mself\u001B[39m\u001B[38;5;241m.\u001B[39m_function_map(method, pat\u001B[38;5;241m=\u001B[39mpat, n\u001B[38;5;241m=\u001B[39mn, expand\u001B[38;5;241m=\u001B[39mexpand, meta\u001B[38;5;241m=\u001B[39mmeta)\n\u001B[1;32m    275\u001B[0m \u001B[38;5;129m@derived_from\u001B[39m(\n\u001B[0;32m--> 276\u001B[0m     \u001B[43mpd\u001B[49m\u001B[38;5;241;43m.\u001B[39;49m\u001B[43mcore\u001B[49m\u001B[38;5;241;43m.\u001B[39;49m\u001B[43mstrings\u001B[49m\u001B[38;5;241;43m.\u001B[39;49m\u001B[43mStringMethods\u001B[49m,\n\u001B[1;32m    277\u001B[0m     inconsistencies\u001B[38;5;241m=\u001B[39m\u001B[38;5;124m\"\u001B[39m\u001B[38;5;124m``expand=True`` with unknown ``n`` will raise a ``NotImplementedError``\u001B[39m\u001B[38;5;124m\"\u001B[39m,\n\u001B[1;32m    278\u001B[0m )\n\u001B[1;32m    279\u001B[0m \u001B[38;5;28;01mdef\u001B[39;00m \u001B[38;5;21msplit\u001B[39m(\u001B[38;5;28mself\u001B[39m, pat\u001B[38;5;241m=\u001B[39m\u001B[38;5;28;01mNone\u001B[39;00m, n\u001B[38;5;241m=\u001B[39m\u001B[38;5;241m-\u001B[39m\u001B[38;5;241m1\u001B[39m, expand\u001B[38;5;241m=\u001B[39m\u001B[38;5;28;01mFalse\u001B[39;00m):\n\u001B[1;32m    280\u001B[0m \u001B[38;5;250m    \u001B[39m\u001B[38;5;124;03m\"\"\"Known inconsistencies: ``expand=True`` with unknown ``n`` will raise a ``NotImplementedError``.\"\"\"\u001B[39;00m\n\u001B[1;32m    281\u001B[0m     \u001B[38;5;28;01mreturn\u001B[39;00m \u001B[38;5;28mself\u001B[39m\u001B[38;5;241m.\u001B[39m_split(\u001B[38;5;124m\"\u001B[39m\u001B[38;5;124msplit\u001B[39m\u001B[38;5;124m\"\u001B[39m, pat\u001B[38;5;241m=\u001B[39mpat, n\u001B[38;5;241m=\u001B[39mn, expand\u001B[38;5;241m=\u001B[39mexpand)\n",
      "\u001B[0;31mAttributeError\u001B[0m: module 'pandas.core.strings' has no attribute 'StringMethods'"
     ]
    }
   ]
  },
  {
   "cell_type": "code",
   "source": [
    "cat_features = [\n",
    "    \"channel_code\", \"city\", \"city_type\",\n",
    "    \"okved\", \"segment\", \"start_cluster\",\n",
    "    \"index_city_code\", \"ogrn_month\", \"ogrn_year\"\n",
    "] + additional_cat_features\n",
    "\n",
    "X = train.copy()\n",
    "y = X[target_feature]\n",
    "X = X.drop([target_feature], axis=1)\n",
    "\n",
    "imputer = Imputer()\n",
    "feature_extractor = FeatureExtractor()\n",
    "\n",
    "X = imputer.fit_transform(X)\n",
    "X = feature_extractor.fit_transform(X, imputer, train=True)"
   ],
   "metadata": {
    "ExecuteTime": {
     "end_time": "2024-03-11T18:12:10.684990909Z",
     "start_time": "2024-03-11T18:11:58.237270908Z"
    },
    "execution": {
     "iopub.status.busy": "2024-03-14T04:33:27.684687Z",
     "iopub.execute_input": "2024-03-14T04:33:27.685078Z",
     "iopub.status.idle": "2024-03-14T04:33:39.522074Z",
     "shell.execute_reply.started": "2024-03-14T04:33:27.685048Z",
     "shell.execute_reply": "2024-03-14T04:33:39.521257Z"
    },
    "trusted": true
   },
   "execution_count": 141,
   "outputs": [
    {
     "name": "stderr",
     "text": "/tmp/ipykernel_34/785590100.py:37: FutureWarning: Setting an item of incompatible dtype is deprecated and will raise in a future error of pandas. Value '[16 16 16 ...  6  6  6]' has dtype incompatible with string, please explicitly cast to a compatible dtype first.\n  X.loc[:, column] = self.les[ind].transform(X[column])\n/tmp/ipykernel_34/785590100.py:37: FutureWarning: Setting an item of incompatible dtype is deprecated and will raise in a future error of pandas. Value '[10 10 10 ...  1  1  1]' has dtype incompatible with string, please explicitly cast to a compatible dtype first.\n  X.loc[:, column] = self.les[ind].transform(X[column])\n/tmp/ipykernel_34/785590100.py:37: FutureWarning: Setting an item of incompatible dtype is deprecated and will raise in a future error of pandas. Value '[2 2 2 ... 2 2 2]' has dtype incompatible with string, please explicitly cast to a compatible dtype first.\n  X.loc[:, column] = self.les[ind].transform(X[column])\n/tmp/ipykernel_34/785590100.py:37: FutureWarning: Setting an item of incompatible dtype is deprecated and will raise in a future error of pandas. Value '[1 1 1 ... 1 1 1]' has dtype incompatible with string, please explicitly cast to a compatible dtype first.\n  X.loc[:, column] = self.les[ind].transform(X[column])\n/tmp/ipykernel_34/785590100.py:37: FutureWarning: Setting an item of incompatible dtype is deprecated and will raise in a future error of pandas. Value '[2 2 2 ... 6 6 6]' has dtype incompatible with string, please explicitly cast to a compatible dtype first.\n  X.loc[:, column] = self.les[ind].transform(X[column])\n/tmp/ipykernel_34/785590100.py:37: FutureWarning: Setting an item of incompatible dtype is deprecated and will raise in a future error of pandas. Value '[1 1 1 ... 9 9 9]' has dtype incompatible with string, please explicitly cast to a compatible dtype first.\n  X.loc[:, column] = self.les[ind].transform(X[column])\n/tmp/ipykernel_34/785590100.py:37: FutureWarning: Setting an item of incompatible dtype is deprecated and will raise in a future error of pandas. Value '[13 13 13 ... 14 14 14]' has dtype incompatible with string, please explicitly cast to a compatible dtype first.\n  X.loc[:, column] = self.les[ind].transform(X[column])\n/tmp/ipykernel_34/785590100.py:37: FutureWarning: Setting an item of incompatible dtype is deprecated and will raise in a future error of pandas. Value '[3 3 3 ... 5 5 5]' has dtype incompatible with string, please explicitly cast to a compatible dtype first.\n  X.loc[:, column] = self.les[ind].transform(X[column])\n/tmp/ipykernel_34/785590100.py:37: FutureWarning: Setting an item of incompatible dtype is deprecated and will raise in a future error of pandas. Value '[ 4  4  4 ...  2  2 16]' has dtype incompatible with string, please explicitly cast to a compatible dtype first.\n  X.loc[:, column] = self.les[ind].transform(X[column])\n",
     "output_type": "stream"
    }
   ]
  },
  {
   "cell_type": "code",
   "source": [
    "X"
   ],
   "metadata": {
    "execution": {
     "iopub.status.busy": "2024-03-14T04:24:27.607427Z",
     "iopub.execute_input": "2024-03-14T04:24:27.608146Z",
     "iopub.status.idle": "2024-03-14T04:24:27.888933Z",
     "shell.execute_reply.started": "2024-03-14T04:24:27.608115Z",
     "shell.execute_reply": "2024-03-14T04:24:27.887946Z"
    },
    "trusted": true
   },
   "execution_count": 120,
   "outputs": [
    {
     "execution_count": 120,
     "output_type": "execute_result",
     "data": {
      "text/plain": "            id     date  balance_amt_avg  balance_amt_max  balance_amt_min  \\\n0            0  month_1         0.901557         0.910179         1.413202   \n1            0  month_2         1.206317         1.036603         2.584604   \n2            0  month_3         0.849365          0.94494         0.556037   \n3            1  month_1         0.075126         0.112827         0.011955   \n4            1  month_2          0.06175         0.104183         0.006693   \n...        ...      ...              ...              ...              ...   \n599995  199998  month_2        -0.000063        -0.000273         0.000008   \n599996  199998  month_3        -0.000064        -0.000273              0.0   \n599997  199999  month_1              0.0        -0.000226         0.000164   \n599998  199999  month_2              0.0        -0.000226         0.000164   \n599999  199999  month_3              0.0        -0.000226         0.000164   \n\n        balance_amt_day_avg  channel_code  city  city_type  index_city_code  \\\n0                  0.904349            16    10          2                1   \n1                  1.210053            16    10          2                1   \n2                  0.851996            16    10          2                1   \n3                  0.075358            11     5          2                0   \n4                  0.061941            11     5          2                0   \n...                     ...           ...   ...        ...              ...   \n599995            -0.000063            20     5          2                0   \n599996            -0.000064            20     5          2                0   \n599997                  0.0             6     1          2                1   \n599998                  0.0             6     1          2                1   \n599999                  0.0             6     1          2                1   \n\n        ...  start_cluster  is_new  cnt_null_features  line_cnt_e_cnt_g  \\\n0       ...              4       0                 49                 0   \n1       ...              4       0                 53                 0   \n2       ...              4       0                 48                 0   \n3       ...              1       0                 57                 0   \n4       ...              1       0                 57                 1   \n...     ...            ...     ...                ...               ...   \n599995  ...              2       0                  8                 1   \n599996  ...             16       0                 13                 1   \n599997  ...              2       0                  8                 1   \n599998  ...              2       0                  8                 1   \n599999  ...             16       0                  8                 1   \n\n        balance_amt_diff  d_oper_1m_diff  e_oper_1m_diff  f_oper_1m_diff  \\\n0              -0.503023             0.0        0.110371       -0.048345   \n1              -1.548002       -0.040304       -0.035483       -0.071767   \n2               0.388903             0.0       -0.335959       -0.048345   \n3               0.100872       -0.098033        0.017147       -0.009383   \n4                0.09749       -0.698146       -0.023558       -0.010552   \n...                  ...             ...             ...             ...   \n599995         -0.000281             0.0             0.0             0.0   \n599996         -0.000273             0.0       -0.000001             0.0   \n599997          -0.00039             0.0             0.0             0.0   \n599998          -0.00039             0.0             0.0             0.0   \n599999          -0.00039             0.0             0.0             0.0   \n\n        g_oper_1m_diff  h_oper_1m_diff  \n0             0.129693        0.129696  \n1              0.00833        0.003318  \n2                  0.0       -0.685725  \n3            -0.059819       -0.335305  \n4            -0.064223       -0.099576  \n...                ...             ...  \n599995             0.0             0.0  \n599996             0.0             0.0  \n599997             0.0             0.0  \n599998             0.0             0.0  \n599999             0.0             0.0  \n\n[600000 rows x 101 columns]",
      "text/html": "<div>\n<style scoped>\n    .dataframe tbody tr th:only-of-type {\n        vertical-align: middle;\n    }\n\n    .dataframe tbody tr th {\n        vertical-align: top;\n    }\n\n    .dataframe thead th {\n        text-align: right;\n    }\n</style>\n<table border=\"1\" class=\"dataframe\">\n  <thead>\n    <tr style=\"text-align: right;\">\n      <th></th>\n      <th>id</th>\n      <th>date</th>\n      <th>balance_amt_avg</th>\n      <th>balance_amt_max</th>\n      <th>balance_amt_min</th>\n      <th>balance_amt_day_avg</th>\n      <th>channel_code</th>\n      <th>city</th>\n      <th>city_type</th>\n      <th>index_city_code</th>\n      <th>...</th>\n      <th>start_cluster</th>\n      <th>is_new</th>\n      <th>cnt_null_features</th>\n      <th>line_cnt_e_cnt_g</th>\n      <th>balance_amt_diff</th>\n      <th>d_oper_1m_diff</th>\n      <th>e_oper_1m_diff</th>\n      <th>f_oper_1m_diff</th>\n      <th>g_oper_1m_diff</th>\n      <th>h_oper_1m_diff</th>\n    </tr>\n  </thead>\n  <tbody>\n    <tr>\n      <th>0</th>\n      <td>0</td>\n      <td>month_1</td>\n      <td>0.901557</td>\n      <td>0.910179</td>\n      <td>1.413202</td>\n      <td>0.904349</td>\n      <td>16</td>\n      <td>10</td>\n      <td>2</td>\n      <td>1</td>\n      <td>...</td>\n      <td>4</td>\n      <td>0</td>\n      <td>49</td>\n      <td>0</td>\n      <td>-0.503023</td>\n      <td>0.0</td>\n      <td>0.110371</td>\n      <td>-0.048345</td>\n      <td>0.129693</td>\n      <td>0.129696</td>\n    </tr>\n    <tr>\n      <th>1</th>\n      <td>0</td>\n      <td>month_2</td>\n      <td>1.206317</td>\n      <td>1.036603</td>\n      <td>2.584604</td>\n      <td>1.210053</td>\n      <td>16</td>\n      <td>10</td>\n      <td>2</td>\n      <td>1</td>\n      <td>...</td>\n      <td>4</td>\n      <td>0</td>\n      <td>53</td>\n      <td>0</td>\n      <td>-1.548002</td>\n      <td>-0.040304</td>\n      <td>-0.035483</td>\n      <td>-0.071767</td>\n      <td>0.00833</td>\n      <td>0.003318</td>\n    </tr>\n    <tr>\n      <th>2</th>\n      <td>0</td>\n      <td>month_3</td>\n      <td>0.849365</td>\n      <td>0.94494</td>\n      <td>0.556037</td>\n      <td>0.851996</td>\n      <td>16</td>\n      <td>10</td>\n      <td>2</td>\n      <td>1</td>\n      <td>...</td>\n      <td>4</td>\n      <td>0</td>\n      <td>48</td>\n      <td>0</td>\n      <td>0.388903</td>\n      <td>0.0</td>\n      <td>-0.335959</td>\n      <td>-0.048345</td>\n      <td>0.0</td>\n      <td>-0.685725</td>\n    </tr>\n    <tr>\n      <th>3</th>\n      <td>1</td>\n      <td>month_1</td>\n      <td>0.075126</td>\n      <td>0.112827</td>\n      <td>0.011955</td>\n      <td>0.075358</td>\n      <td>11</td>\n      <td>5</td>\n      <td>2</td>\n      <td>0</td>\n      <td>...</td>\n      <td>1</td>\n      <td>0</td>\n      <td>57</td>\n      <td>0</td>\n      <td>0.100872</td>\n      <td>-0.098033</td>\n      <td>0.017147</td>\n      <td>-0.009383</td>\n      <td>-0.059819</td>\n      <td>-0.335305</td>\n    </tr>\n    <tr>\n      <th>4</th>\n      <td>1</td>\n      <td>month_2</td>\n      <td>0.06175</td>\n      <td>0.104183</td>\n      <td>0.006693</td>\n      <td>0.061941</td>\n      <td>11</td>\n      <td>5</td>\n      <td>2</td>\n      <td>0</td>\n      <td>...</td>\n      <td>1</td>\n      <td>0</td>\n      <td>57</td>\n      <td>1</td>\n      <td>0.09749</td>\n      <td>-0.698146</td>\n      <td>-0.023558</td>\n      <td>-0.010552</td>\n      <td>-0.064223</td>\n      <td>-0.099576</td>\n    </tr>\n    <tr>\n      <th>...</th>\n      <td>...</td>\n      <td>...</td>\n      <td>...</td>\n      <td>...</td>\n      <td>...</td>\n      <td>...</td>\n      <td>...</td>\n      <td>...</td>\n      <td>...</td>\n      <td>...</td>\n      <td>...</td>\n      <td>...</td>\n      <td>...</td>\n      <td>...</td>\n      <td>...</td>\n      <td>...</td>\n      <td>...</td>\n      <td>...</td>\n      <td>...</td>\n      <td>...</td>\n      <td>...</td>\n    </tr>\n    <tr>\n      <th>599995</th>\n      <td>199998</td>\n      <td>month_2</td>\n      <td>-0.000063</td>\n      <td>-0.000273</td>\n      <td>0.000008</td>\n      <td>-0.000063</td>\n      <td>20</td>\n      <td>5</td>\n      <td>2</td>\n      <td>0</td>\n      <td>...</td>\n      <td>2</td>\n      <td>0</td>\n      <td>8</td>\n      <td>1</td>\n      <td>-0.000281</td>\n      <td>0.0</td>\n      <td>0.0</td>\n      <td>0.0</td>\n      <td>0.0</td>\n      <td>0.0</td>\n    </tr>\n    <tr>\n      <th>599996</th>\n      <td>199998</td>\n      <td>month_3</td>\n      <td>-0.000064</td>\n      <td>-0.000273</td>\n      <td>0.0</td>\n      <td>-0.000064</td>\n      <td>20</td>\n      <td>5</td>\n      <td>2</td>\n      <td>0</td>\n      <td>...</td>\n      <td>16</td>\n      <td>0</td>\n      <td>13</td>\n      <td>1</td>\n      <td>-0.000273</td>\n      <td>0.0</td>\n      <td>-0.000001</td>\n      <td>0.0</td>\n      <td>0.0</td>\n      <td>0.0</td>\n    </tr>\n    <tr>\n      <th>599997</th>\n      <td>199999</td>\n      <td>month_1</td>\n      <td>0.0</td>\n      <td>-0.000226</td>\n      <td>0.000164</td>\n      <td>0.0</td>\n      <td>6</td>\n      <td>1</td>\n      <td>2</td>\n      <td>1</td>\n      <td>...</td>\n      <td>2</td>\n      <td>0</td>\n      <td>8</td>\n      <td>1</td>\n      <td>-0.00039</td>\n      <td>0.0</td>\n      <td>0.0</td>\n      <td>0.0</td>\n      <td>0.0</td>\n      <td>0.0</td>\n    </tr>\n    <tr>\n      <th>599998</th>\n      <td>199999</td>\n      <td>month_2</td>\n      <td>0.0</td>\n      <td>-0.000226</td>\n      <td>0.000164</td>\n      <td>0.0</td>\n      <td>6</td>\n      <td>1</td>\n      <td>2</td>\n      <td>1</td>\n      <td>...</td>\n      <td>2</td>\n      <td>0</td>\n      <td>8</td>\n      <td>1</td>\n      <td>-0.00039</td>\n      <td>0.0</td>\n      <td>0.0</td>\n      <td>0.0</td>\n      <td>0.0</td>\n      <td>0.0</td>\n    </tr>\n    <tr>\n      <th>599999</th>\n      <td>199999</td>\n      <td>month_3</td>\n      <td>0.0</td>\n      <td>-0.000226</td>\n      <td>0.000164</td>\n      <td>0.0</td>\n      <td>6</td>\n      <td>1</td>\n      <td>2</td>\n      <td>1</td>\n      <td>...</td>\n      <td>16</td>\n      <td>0</td>\n      <td>8</td>\n      <td>1</td>\n      <td>-0.00039</td>\n      <td>0.0</td>\n      <td>0.0</td>\n      <td>0.0</td>\n      <td>0.0</td>\n      <td>0.0</td>\n    </tr>\n  </tbody>\n</table>\n<p>600000 rows × 101 columns</p>\n</div>"
     },
     "metadata": {}
    }
   ]
  },
  {
   "cell_type": "code",
   "source": [
    "y.name = 'end_cluster_2'\n",
    "y = y.shift(-1)\n",
    "X = X[X.date != 'month_3']\n",
    "y = y.loc[X.index]\n",
    "\n",
    "target_feature = 'end_cluster_2'"
   ],
   "metadata": {
    "execution": {
     "iopub.status.busy": "2024-03-14T01:37:00.031659Z",
     "iopub.execute_input": "2024-03-14T01:37:00.032512Z",
     "iopub.status.idle": "2024-03-14T01:37:00.459922Z",
     "shell.execute_reply.started": "2024-03-14T01:37:00.032477Z",
     "shell.execute_reply": "2024-03-14T01:37:00.458851Z"
    },
    "trusted": true
   },
   "execution_count": 37,
   "outputs": []
  },
  {
   "cell_type": "code",
   "source": [
    "clf = CatboostEstimator()\n",
    "clf.fit(X, y, 5, cat_features, to_drop)"
   ],
   "metadata": {
    "ExecuteTime": {
     "end_time": "2024-03-11T18:15:10.841893457Z",
     "start_time": "2024-03-11T18:14:21.402423777Z"
    },
    "execution": {
     "iopub.status.busy": "2024-03-14T04:33:59.982163Z",
     "iopub.execute_input": "2024-03-14T04:33:59.983076Z",
     "iopub.status.idle": "2024-03-14T04:44:11.488495Z",
     "shell.execute_reply.started": "2024-03-14T04:33:59.983041Z",
     "shell.execute_reply": "2024-03-14T04:44:11.487486Z"
    },
    "trusted": true
   },
   "execution_count": 142,
   "outputs": [
    {
     "name": "stderr",
     "text": "Default metric period is 5 because AUC is/are not implemented for GPU\nAUC is not implemented on GPU. Will use CPU for metric computation, this could significantly affect learning time\n",
     "output_type": "stream"
    },
    {
     "name": "stdout",
     "text": "0:\ttest: 0.6978080\tbest: 0.6978080 (0)\ttotal: 169ms\tremaining: 5m 38s\n500:\ttest: 0.9031250\tbest: 0.9031250 (500)\ttotal: 29.1s\tremaining: 1m 26s\n1000:\ttest: 0.8979383\tbest: 0.9031250 (500)\ttotal: 57s\tremaining: 56.9s\n1500:\ttest: 0.8989684\tbest: 0.9031250 (500)\ttotal: 1m 24s\tremaining: 28.1s\n1999:\ttest: 0.8986782\tbest: 0.9031250 (500)\ttotal: 1m 52s\tremaining: 0us\nbestTest = 0.9031249534\nbestIteration = 500\nShrink model to first 501 iterations.\n{'{other}': 0.897987048315328, '{}': 0.9041073839246393, '{α, β}': 0.8756751277594426, '{α, γ}': 0.9110797935700224, '{α, δ}': 0.8915737534323811, '{α, ε, η}': 0.9229917470256667, '{α, ε, θ}': 0.8962586805870671, '{α, ε, ψ}': 0.927572794111044, '{α, ε}': 0.8777694023465438, '{α, η}': 0.9551774943744197, '{α, θ}': 0.8689809480214247, '{α, λ}': 0.8690113380340454, '{α, μ}': 0.8397458346009778, '{α, π}': 0.36366186932451094, '{α, ψ}': 0.9300135467957878, '{α}': 0.852707570438814, '{λ}': 0.9073733275859606}\nmodel 0: score = 0.8814\n",
     "output_type": "stream"
    },
    {
     "name": "stderr",
     "text": "Default metric period is 5 because AUC is/are not implemented for GPU\nAUC is not implemented on GPU. Will use CPU for metric computation, this could significantly affect learning time\n",
     "output_type": "stream"
    },
    {
     "name": "stdout",
     "text": "0:\ttest: 0.7212351\tbest: 0.7212351 (0)\ttotal: 158ms\tremaining: 5m 16s\n500:\ttest: 0.9330258\tbest: 0.9330258 (500)\ttotal: 28.9s\tremaining: 1m 26s\n1000:\ttest: 0.9402558\tbest: 0.9402729 (985)\ttotal: 57s\tremaining: 56.8s\n1500:\ttest: 0.9418660\tbest: 0.9419535 (1465)\ttotal: 1m 24s\tremaining: 28.1s\n1999:\ttest: 0.9417455\tbest: 0.9420309 (1725)\ttotal: 1m 52s\tremaining: 0us\nbestTest = 0.9420308607\nbestIteration = 1725\nShrink model to first 1726 iterations.\n{'{other}': 0.906537800190754, '{}': 0.9104077482653836, '{α, β}': 0.8821178420244926, '{α, γ}': 0.9183858250660047, '{α, δ}': 0.8972960457557422, '{α, ε, η}': 0.9429240539184319, '{α, ε, θ}': 0.8879038567684778, '{α, ε, ψ}': 0.9537411809354509, '{α, ε}': 0.8796311819484135, '{α, η}': 0.9584599892053537, '{α, θ}': 0.8696248356605689, '{α, λ}': 0.8943804407144091, '{α, μ}': 0.8646495724925206, '{α, π}': 0.9961137917336822, '{α, ψ}': 0.9423598002619993, '{α}': 0.8579120473136062, '{λ}': 0.8997000424527881}\nmodel 1: score = 0.9087\n",
     "output_type": "stream"
    },
    {
     "name": "stderr",
     "text": "Default metric period is 5 because AUC is/are not implemented for GPU\nAUC is not implemented on GPU. Will use CPU for metric computation, this could significantly affect learning time\n",
     "output_type": "stream"
    },
    {
     "name": "stdout",
     "text": "0:\ttest: 0.7320155\tbest: 0.7320155 (0)\ttotal: 150ms\tremaining: 4m 59s\n500:\ttest: 0.9347039\tbest: 0.9347039 (500)\ttotal: 28.8s\tremaining: 1m 26s\n1000:\ttest: 0.9415048\tbest: 0.9416337 (985)\ttotal: 56.6s\tremaining: 56.5s\n1500:\ttest: 0.9418825\tbest: 0.9423844 (1265)\ttotal: 1m 24s\tremaining: 28s\n1999:\ttest: 0.9441209\tbest: 0.9443350 (1930)\ttotal: 1m 51s\tremaining: 0us\nbestTest = 0.9443350309\nbestIteration = 1930\nShrink model to first 1931 iterations.\n{'{other}': 0.8995781311013615, '{}': 0.9088691870217402, '{α, β}': 0.8843548579082668, '{α, γ}': 0.9166635921017651, '{α, δ}': 0.8968196227037905, '{α, ε, η}': 0.9441800916005866, '{α, ε, θ}': 0.9160825399194215, '{α, ε, ψ}': 0.9346802185081746, '{α, ε}': 0.8864018500190453, '{α, η}': 0.9594525081205674, '{α, θ}': 0.8643117965630603, '{α, λ}': 0.9210193387982435, '{α, μ}': 0.871116532826935, '{α, π}': 0.9282821380356339, '{α, ψ}': 0.9480958111982274, '{α}': 0.856899907501462, '{λ}': 0.9732537300991915}\nmodel 2: score = 0.9128\n",
     "output_type": "stream"
    },
    {
     "name": "stderr",
     "text": "Default metric period is 5 because AUC is/are not implemented for GPU\nAUC is not implemented on GPU. Will use CPU for metric computation, this could significantly affect learning time\n",
     "output_type": "stream"
    },
    {
     "name": "stdout",
     "text": "0:\ttest: 0.7077521\tbest: 0.7077521 (0)\ttotal: 155ms\tremaining: 5m 9s\n500:\ttest: 0.9223202\tbest: 0.9223525 (495)\ttotal: 28.8s\tremaining: 1m 26s\n1000:\ttest: 0.9300421\tbest: 0.9300571 (985)\ttotal: 56.9s\tremaining: 56.8s\n1500:\ttest: 0.9323376\tbest: 0.9323376 (1500)\ttotal: 1m 24s\tremaining: 28.1s\n1999:\ttest: 0.9323418\tbest: 0.9327025 (1700)\ttotal: 1m 51s\tremaining: 0us\nbestTest = 0.9327024853\nbestIteration = 1700\nShrink model to first 1701 iterations.\n{'{other}': 0.9058123602283604, '{}': 0.911306525211984, '{α, β}': 0.8863593445712651, '{α, γ}': 0.9194221880927145, '{α, δ}': 0.9018860536839133, '{α, ε, η}': 0.9466117175768718, '{α, ε, θ}': 0.9195848020299777, '{α, ε, ψ}': 0.912265154200638, '{α, ε}': 0.8816310283345288, '{α, η}': 0.960541941757482, '{α, θ}': 0.8767100925840814, '{α, λ}': 0.8522780665853615, '{α, μ}': 0.8735406221991254, '{α, π}': 0.8863845970076283, '{α, ψ}': 0.9290088790700634, '{α}': 0.8583100422082656, '{λ}': 0.9178955697130619}\nmodel 3: score = 0.9013\n",
     "output_type": "stream"
    },
    {
     "name": "stderr",
     "text": "Default metric period is 5 because AUC is/are not implemented for GPU\nAUC is not implemented on GPU. Will use CPU for metric computation, this could significantly affect learning time\n",
     "output_type": "stream"
    },
    {
     "name": "stdout",
     "text": "0:\ttest: 0.6980729\tbest: 0.6980729 (0)\ttotal: 148ms\tremaining: 4m 55s\n500:\ttest: 0.9261186\tbest: 0.9261186 (500)\ttotal: 29s\tremaining: 1m 26s\n1000:\ttest: 0.9345497\tbest: 0.9345497 (1000)\ttotal: 56.7s\tremaining: 56.6s\n1500:\ttest: 0.9356424\tbest: 0.9359900 (1440)\ttotal: 1m 24s\tremaining: 28s\n1999:\ttest: 0.9344260\tbest: 0.9359900 (1440)\ttotal: 1m 52s\tremaining: 0us\nbestTest = 0.9359900397\nbestIteration = 1440\nShrink model to first 1441 iterations.\n{'{other}': 0.9059876751186441, '{}': 0.9077137212220833, '{α, β}': 0.8753699643727982, '{α, γ}': 0.9224526476705515, '{α, δ}': 0.8891915227862168, '{α, ε, η}': 0.9540549369291786, '{α, ε, θ}': 0.895330805778232, '{α, ε, ψ}': 0.9608383461781277, '{α, ε}': 0.8769858470284895, '{α, η}': 0.9586063093197112, '{α, θ}': 0.8912478797812453, '{α, λ}': 0.9297135087901649, '{α, μ}': 0.8509712183385587, '{α, π}': 0.9583649318721612, '{α, ψ}': 0.9271846451469592, '{α}': 0.8569486066813203, '{λ}': 0.9192978991602027}\nmodel 4: score = 0.9101\nmean score = 0.9028, std = 0.0114\noverall score = 0.8915\n",
     "output_type": "stream"
    }
   ]
  },
  {
   "cell_type": "code",
   "source": [
    "predictions = clf.predict(X_val)\n",
    "score(y_val, predictions / predictions.sum(axis=1).reshape(-1, 1)).round(4)"
   ],
   "metadata": {
    "collapsed": false,
    "ExecuteTime": {
     "end_time": "2024-03-11T18:16:46.884937239Z",
     "start_time": "2024-03-11T18:16:44.819457933Z"
    },
    "jupyter": {
     "outputs_hidden": false
    },
    "execution": {
     "iopub.status.busy": "2024-03-13T17:37:02.045780Z",
     "iopub.execute_input": "2024-03-13T17:37:02.046177Z",
     "iopub.status.idle": "2024-03-13T17:37:04.654899Z",
     "shell.execute_reply.started": "2024-03-13T17:37:02.046147Z",
     "shell.execute_reply": "2024-03-13T17:37:04.653853Z"
    },
    "trusted": true
   },
   "execution_count": 144,
   "outputs": [
    {
     "name": "stdout",
     "text": "{'{other}': 0.8999071693373473, '{}': 0.9072328419351423, '{α, β}': 0.8806086218817131, '{α, γ}': 0.9154504232905452, '{α, δ}': 0.90494671230305, '{α, ε, η}': 0.9330267065487007, '{α, ε, θ}': 0.9131255740168657, '{α, ε, ψ}': 0.9248734176381884, '{α, ε}': 0.8734116779340073, '{α, η}': 0.9611213086438922, '{α, θ}': 0.8856308288660313, '{α, λ}': 0.8849825291068488, '{α, μ}': 0.8561198352291737, '{α, π}': 0.972307641024359, '{α, ψ}': 0.9370152219430486, '{α}': 0.857196417213885, '{λ}': 0.8627691230526868}\n",
     "output_type": "stream"
    },
    {
     "execution_count": 144,
     "output_type": "execute_result",
     "data": {
      "text/plain": "0.9021"
     },
     "metadata": {}
    }
   ]
  },
  {
   "cell_type": "code",
   "source": [
    "df_features = clf.model.get_feature_importance(prettified=True).set_index('Feature Id')\n",
    "df_features = df_features.sort_values('Importances', ascending=False)"
   ],
   "metadata": {
    "collapsed": false,
    "ExecuteTime": {
     "end_time": "2024-03-11T18:23:35.380304767Z",
     "start_time": "2024-03-11T18:23:35.355492703Z"
    },
    "jupyter": {
     "outputs_hidden": false
    },
    "execution": {
     "iopub.status.busy": "2024-03-13T17:37:29.303869Z",
     "iopub.execute_input": "2024-03-13T17:37:29.304628Z",
     "iopub.status.idle": "2024-03-13T17:37:29.331961Z",
     "shell.execute_reply.started": "2024-03-13T17:37:29.304596Z",
     "shell.execute_reply": "2024-03-13T17:37:29.331111Z"
    },
    "trusted": true
   },
   "execution_count": 145,
   "outputs": []
  },
  {
   "cell_type": "code",
   "source": [
    "df_features.head(30)"
   ],
   "metadata": {
    "ExecuteTime": {
     "end_time": "2024-03-11T18:23:42.557626312Z",
     "start_time": "2024-03-11T18:23:42.554282876Z"
    },
    "execution": {
     "iopub.status.busy": "2024-03-13T17:39:23.420998Z",
     "iopub.execute_input": "2024-03-13T17:39:23.421372Z",
     "iopub.status.idle": "2024-03-13T17:39:23.432755Z",
     "shell.execute_reply.started": "2024-03-13T17:39:23.421343Z",
     "shell.execute_reply": "2024-03-13T17:39:23.431751Z"
    },
    "trusted": true
   },
   "execution_count": 148,
   "outputs": [
    {
     "execution_count": 148,
     "output_type": "execute_result",
     "data": {
      "text/plain": "                         Importances\nFeature Id                          \nstart_cluster              21.494838\nokved                       8.724530\nmax_founderpres             6.278127\nogrn_exist_months           6.090779\nbalance_amt_min             4.862454\nchannel_code                4.787789\nsum_of_paym_1y              4.421366\nsegment                     4.320693\ncnt_null_features           4.013097\nbalance_amt_max             3.723152\nsum_cred_h_oper_3m          2.599283\nsum_cred_e_oper_3m          2.505619\nsum_deb_e_oper_3m           2.317885\nbalance_amt_avg             2.221220\nindex_city_code             2.184185\ncnt_days_deb_e_oper_3m      2.038175\nsum_deb_h_oper_3m           1.953135\ncnt_days_cred_e_oper_1m     1.898783\nsum_cred_e_oper_1m          1.806106\nbalance_amt_day_avg         1.580057\ncnt_days_cred_e_oper_3m     1.343376\ncnt_cred_e_oper_1m          1.222964\ncnt_days_deb_h_oper_1m      1.181929\nsum_deb_e_oper_1m           1.181536\nsum_a_oper_3m               1.030994\ncnt_days_deb_g_oper_3m      0.978037\nsum_deb_h_oper_1m           0.934208\nsum_of_paym_2m              0.909656\nis_new                      0.757330\nsum_b_oper_3m               0.638693",
      "text/html": "<div>\n<style scoped>\n    .dataframe tbody tr th:only-of-type {\n        vertical-align: middle;\n    }\n\n    .dataframe tbody tr th {\n        vertical-align: top;\n    }\n\n    .dataframe thead th {\n        text-align: right;\n    }\n</style>\n<table border=\"1\" class=\"dataframe\">\n  <thead>\n    <tr style=\"text-align: right;\">\n      <th></th>\n      <th>Importances</th>\n    </tr>\n    <tr>\n      <th>Feature Id</th>\n      <th></th>\n    </tr>\n  </thead>\n  <tbody>\n    <tr>\n      <th>start_cluster</th>\n      <td>21.494838</td>\n    </tr>\n    <tr>\n      <th>okved</th>\n      <td>8.724530</td>\n    </tr>\n    <tr>\n      <th>max_founderpres</th>\n      <td>6.278127</td>\n    </tr>\n    <tr>\n      <th>ogrn_exist_months</th>\n      <td>6.090779</td>\n    </tr>\n    <tr>\n      <th>balance_amt_min</th>\n      <td>4.862454</td>\n    </tr>\n    <tr>\n      <th>channel_code</th>\n      <td>4.787789</td>\n    </tr>\n    <tr>\n      <th>sum_of_paym_1y</th>\n      <td>4.421366</td>\n    </tr>\n    <tr>\n      <th>segment</th>\n      <td>4.320693</td>\n    </tr>\n    <tr>\n      <th>cnt_null_features</th>\n      <td>4.013097</td>\n    </tr>\n    <tr>\n      <th>balance_amt_max</th>\n      <td>3.723152</td>\n    </tr>\n    <tr>\n      <th>sum_cred_h_oper_3m</th>\n      <td>2.599283</td>\n    </tr>\n    <tr>\n      <th>sum_cred_e_oper_3m</th>\n      <td>2.505619</td>\n    </tr>\n    <tr>\n      <th>sum_deb_e_oper_3m</th>\n      <td>2.317885</td>\n    </tr>\n    <tr>\n      <th>balance_amt_avg</th>\n      <td>2.221220</td>\n    </tr>\n    <tr>\n      <th>index_city_code</th>\n      <td>2.184185</td>\n    </tr>\n    <tr>\n      <th>cnt_days_deb_e_oper_3m</th>\n      <td>2.038175</td>\n    </tr>\n    <tr>\n      <th>sum_deb_h_oper_3m</th>\n      <td>1.953135</td>\n    </tr>\n    <tr>\n      <th>cnt_days_cred_e_oper_1m</th>\n      <td>1.898783</td>\n    </tr>\n    <tr>\n      <th>sum_cred_e_oper_1m</th>\n      <td>1.806106</td>\n    </tr>\n    <tr>\n      <th>balance_amt_day_avg</th>\n      <td>1.580057</td>\n    </tr>\n    <tr>\n      <th>cnt_days_cred_e_oper_3m</th>\n      <td>1.343376</td>\n    </tr>\n    <tr>\n      <th>cnt_cred_e_oper_1m</th>\n      <td>1.222964</td>\n    </tr>\n    <tr>\n      <th>cnt_days_deb_h_oper_1m</th>\n      <td>1.181929</td>\n    </tr>\n    <tr>\n      <th>sum_deb_e_oper_1m</th>\n      <td>1.181536</td>\n    </tr>\n    <tr>\n      <th>sum_a_oper_3m</th>\n      <td>1.030994</td>\n    </tr>\n    <tr>\n      <th>cnt_days_deb_g_oper_3m</th>\n      <td>0.978037</td>\n    </tr>\n    <tr>\n      <th>sum_deb_h_oper_1m</th>\n      <td>0.934208</td>\n    </tr>\n    <tr>\n      <th>sum_of_paym_2m</th>\n      <td>0.909656</td>\n    </tr>\n    <tr>\n      <th>is_new</th>\n      <td>0.757330</td>\n    </tr>\n    <tr>\n      <th>sum_b_oper_3m</th>\n      <td>0.638693</td>\n    </tr>\n  </tbody>\n</table>\n</div>"
     },
     "metadata": {}
    }
   ]
  },
  {
   "cell_type": "markdown",
   "source": [
    "# Предсказания для теста, используя вероятности классов для month_6 уже обученной модели"
   ],
   "metadata": {
    "collapsed": false
   }
  },
  {
   "cell_type": "code",
   "source": [
    "test = get_test_data()\n",
    "test = test.convert_dtypes()"
   ],
   "metadata": {
    "execution": {
     "iopub.status.busy": "2024-03-14T04:44:46.564184Z",
     "iopub.execute_input": "2024-03-14T04:44:46.564494Z",
     "iopub.status.idle": "2024-03-14T04:44:53.670020Z",
     "shell.execute_reply.started": "2024-03-14T04:44:46.564469Z",
     "shell.execute_reply": "2024-03-14T04:44:53.669205Z"
    },
    "trusted": true
   },
   "execution_count": 144,
   "outputs": []
  },
  {
   "cell_type": "code",
   "source": [
    "test.head()"
   ],
   "metadata": {
    "execution": {
     "iopub.status.busy": "2024-03-14T04:44:53.671249Z",
     "iopub.execute_input": "2024-03-14T04:44:53.672156Z",
     "iopub.status.idle": "2024-03-14T04:44:53.699973Z",
     "shell.execute_reply.started": "2024-03-14T04:44:53.672127Z",
     "shell.execute_reply": "2024-03-14T04:44:53.699095Z"
    },
    "trusted": true
   },
   "execution_count": 145,
   "outputs": [
    {
     "execution_count": 145,
     "output_type": "execute_result",
     "data": {
      "text/plain": "       id     date  balance_amt_avg  balance_amt_max  balance_amt_min  \\\n0  200000  month_4        -0.096224         0.335496        -0.125995   \n1  200000  month_5        -0.024255        -0.059806        -0.124295   \n2  200000  month_6         0.045988         0.049418        -0.125995   \n3  200001  month_4        -0.156722         -0.20492        -0.125856   \n4  200001  month_5        -0.156722         -0.20492        -0.125856   \n\n   balance_amt_day_avg     channel_code     city    city_type index_city_code  \\\n0            -0.095578  channel_code_12  city_14  city_type_0            <NA>   \n1            -0.023381  channel_code_12  city_14  city_type_0            <NA>   \n2             0.047079  channel_code_12  city_14  city_type_0            <NA>   \n3            -0.156258   channel_code_9  city_76  city_type_0            <NA>   \n4            -0.156258   channel_code_9  city_76  city_type_0            <NA>   \n\n   ...  sum_cred_g_oper_3m  cnt_cred_g_oper_3m cnt_days_cred_g_oper_3m  \\\n0  ...            0.010952            0.946066                0.407762   \n1  ...            0.006812            0.945281                0.396267   \n2  ...            0.006812            0.945281                0.396267   \n3  ...           -0.028584                <NA>                    <NA>   \n4  ...           -0.028584                <NA>                    <NA>   \n\n  sum_deb_h_oper_3m  cnt_deb_h_oper_3m  cnt_days_deb_h_oper_3m  \\\n0          -0.15395           0.548895                 0.54102   \n1         -0.150505           0.549468                0.552131   \n2           -0.1528           0.549468                 0.54102   \n3         -0.165588               <NA>                    <NA>   \n4         -0.165588               <NA>                    <NA>   \n\n   sum_cred_h_oper_3m  cnt_cred_h_oper_3m cnt_days_cred_h_oper_3m  \\\n0            0.031742            0.257278                0.561353   \n1            0.237817            0.264211                0.715199   \n2            0.387566            0.268543                0.836079   \n3           -0.201123                <NA>                    <NA>   \n4           -0.201123                <NA>                    <NA>   \n\n  start_cluster  \n0           {α}  \n1           {α}  \n2          <NA>  \n3           {α}  \n4           {α}  \n\n[5 rows x 92 columns]",
      "text/html": "<div>\n<style scoped>\n    .dataframe tbody tr th:only-of-type {\n        vertical-align: middle;\n    }\n\n    .dataframe tbody tr th {\n        vertical-align: top;\n    }\n\n    .dataframe thead th {\n        text-align: right;\n    }\n</style>\n<table border=\"1\" class=\"dataframe\">\n  <thead>\n    <tr style=\"text-align: right;\">\n      <th></th>\n      <th>id</th>\n      <th>date</th>\n      <th>balance_amt_avg</th>\n      <th>balance_amt_max</th>\n      <th>balance_amt_min</th>\n      <th>balance_amt_day_avg</th>\n      <th>channel_code</th>\n      <th>city</th>\n      <th>city_type</th>\n      <th>index_city_code</th>\n      <th>...</th>\n      <th>sum_cred_g_oper_3m</th>\n      <th>cnt_cred_g_oper_3m</th>\n      <th>cnt_days_cred_g_oper_3m</th>\n      <th>sum_deb_h_oper_3m</th>\n      <th>cnt_deb_h_oper_3m</th>\n      <th>cnt_days_deb_h_oper_3m</th>\n      <th>sum_cred_h_oper_3m</th>\n      <th>cnt_cred_h_oper_3m</th>\n      <th>cnt_days_cred_h_oper_3m</th>\n      <th>start_cluster</th>\n    </tr>\n  </thead>\n  <tbody>\n    <tr>\n      <th>0</th>\n      <td>200000</td>\n      <td>month_4</td>\n      <td>-0.096224</td>\n      <td>0.335496</td>\n      <td>-0.125995</td>\n      <td>-0.095578</td>\n      <td>channel_code_12</td>\n      <td>city_14</td>\n      <td>city_type_0</td>\n      <td>&lt;NA&gt;</td>\n      <td>...</td>\n      <td>0.010952</td>\n      <td>0.946066</td>\n      <td>0.407762</td>\n      <td>-0.15395</td>\n      <td>0.548895</td>\n      <td>0.54102</td>\n      <td>0.031742</td>\n      <td>0.257278</td>\n      <td>0.561353</td>\n      <td>{α}</td>\n    </tr>\n    <tr>\n      <th>1</th>\n      <td>200000</td>\n      <td>month_5</td>\n      <td>-0.024255</td>\n      <td>-0.059806</td>\n      <td>-0.124295</td>\n      <td>-0.023381</td>\n      <td>channel_code_12</td>\n      <td>city_14</td>\n      <td>city_type_0</td>\n      <td>&lt;NA&gt;</td>\n      <td>...</td>\n      <td>0.006812</td>\n      <td>0.945281</td>\n      <td>0.396267</td>\n      <td>-0.150505</td>\n      <td>0.549468</td>\n      <td>0.552131</td>\n      <td>0.237817</td>\n      <td>0.264211</td>\n      <td>0.715199</td>\n      <td>{α}</td>\n    </tr>\n    <tr>\n      <th>2</th>\n      <td>200000</td>\n      <td>month_6</td>\n      <td>0.045988</td>\n      <td>0.049418</td>\n      <td>-0.125995</td>\n      <td>0.047079</td>\n      <td>channel_code_12</td>\n      <td>city_14</td>\n      <td>city_type_0</td>\n      <td>&lt;NA&gt;</td>\n      <td>...</td>\n      <td>0.006812</td>\n      <td>0.945281</td>\n      <td>0.396267</td>\n      <td>-0.1528</td>\n      <td>0.549468</td>\n      <td>0.54102</td>\n      <td>0.387566</td>\n      <td>0.268543</td>\n      <td>0.836079</td>\n      <td>&lt;NA&gt;</td>\n    </tr>\n    <tr>\n      <th>3</th>\n      <td>200001</td>\n      <td>month_4</td>\n      <td>-0.156722</td>\n      <td>-0.20492</td>\n      <td>-0.125856</td>\n      <td>-0.156258</td>\n      <td>channel_code_9</td>\n      <td>city_76</td>\n      <td>city_type_0</td>\n      <td>&lt;NA&gt;</td>\n      <td>...</td>\n      <td>-0.028584</td>\n      <td>&lt;NA&gt;</td>\n      <td>&lt;NA&gt;</td>\n      <td>-0.165588</td>\n      <td>&lt;NA&gt;</td>\n      <td>&lt;NA&gt;</td>\n      <td>-0.201123</td>\n      <td>&lt;NA&gt;</td>\n      <td>&lt;NA&gt;</td>\n      <td>{α}</td>\n    </tr>\n    <tr>\n      <th>4</th>\n      <td>200001</td>\n      <td>month_5</td>\n      <td>-0.156722</td>\n      <td>-0.20492</td>\n      <td>-0.125856</td>\n      <td>-0.156258</td>\n      <td>channel_code_9</td>\n      <td>city_76</td>\n      <td>city_type_0</td>\n      <td>&lt;NA&gt;</td>\n      <td>...</td>\n      <td>-0.028584</td>\n      <td>&lt;NA&gt;</td>\n      <td>&lt;NA&gt;</td>\n      <td>-0.165588</td>\n      <td>&lt;NA&gt;</td>\n      <td>&lt;NA&gt;</td>\n      <td>-0.201123</td>\n      <td>&lt;NA&gt;</td>\n      <td>&lt;NA&gt;</td>\n      <td>{α}</td>\n    </tr>\n  </tbody>\n</table>\n<p>5 rows × 92 columns</p>\n</div>"
     },
     "metadata": {}
    }
   ]
  },
  {
   "cell_type": "code",
   "source": [
    "probs = np.load('/kaggle/input/probabilities-0/prob0.npy')\n",
    "\n",
    "test = imputer.transform(test)\n",
    "test = feature_extractor.transform(test, train=False)\n",
    "test = test[test.date == 'month_6']\n",
    "test = test.drop(to_drop, axis=1)\n",
    "\n",
    "test = test.loc[test.index.repeat(len(clusters))]\n",
    "test['start_cluster'] = clusters * (test.shape[0] // len(clusters))"
   ],
   "metadata": {
    "execution": {
     "iopub.status.busy": "2024-03-14T04:44:53.701759Z",
     "iopub.execute_input": "2024-03-14T04:44:53.702051Z",
     "iopub.status.idle": "2024-03-14T04:44:57.969754Z",
     "shell.execute_reply.started": "2024-03-14T04:44:53.702027Z",
     "shell.execute_reply": "2024-03-14T04:44:57.968917Z"
    },
    "trusted": true
   },
   "execution_count": 146,
   "outputs": [
    {
     "name": "stderr",
     "text": "/tmp/ipykernel_34/785590100.py:37: FutureWarning: Setting an item of incompatible dtype is deprecated and will raise in a future error of pandas. Value '[ 5  5  5 ... 20 20 20]' has dtype incompatible with string, please explicitly cast to a compatible dtype first.\n  X.loc[:, column] = self.les[ind].transform(X[column])\n/tmp/ipykernel_34/785590100.py:37: FutureWarning: Setting an item of incompatible dtype is deprecated and will raise in a future error of pandas. Value '[ 5  5  5 ... 15 15 15]' has dtype incompatible with string, please explicitly cast to a compatible dtype first.\n  X.loc[:, column] = self.les[ind].transform(X[column])\n/tmp/ipykernel_34/785590100.py:37: FutureWarning: Setting an item of incompatible dtype is deprecated and will raise in a future error of pandas. Value '[2 2 2 ... 2 2 2]' has dtype incompatible with string, please explicitly cast to a compatible dtype first.\n  X.loc[:, column] = self.les[ind].transform(X[column])\n/tmp/ipykernel_34/785590100.py:37: FutureWarning: Setting an item of incompatible dtype is deprecated and will raise in a future error of pandas. Value '[ 0  0  0 ... 11 11 11]' has dtype incompatible with string, please explicitly cast to a compatible dtype first.\n  X.loc[:, column] = self.les[ind].transform(X[column])\n/tmp/ipykernel_34/785590100.py:37: FutureWarning: Setting an item of incompatible dtype is deprecated and will raise in a future error of pandas. Value '[12 12 12 ...  5  5  5]' has dtype incompatible with string, please explicitly cast to a compatible dtype first.\n  X.loc[:, column] = self.les[ind].transform(X[column])\n/tmp/ipykernel_34/785590100.py:37: FutureWarning: Setting an item of incompatible dtype is deprecated and will raise in a future error of pandas. Value '[3 3 3 ... 6 6 6]' has dtype incompatible with string, please explicitly cast to a compatible dtype first.\n  X.loc[:, column] = self.les[ind].transform(X[column])\n/tmp/ipykernel_34/785590100.py:37: FutureWarning: Setting an item of incompatible dtype is deprecated and will raise in a future error of pandas. Value '[2 2 2 ... 7 7 7]' has dtype incompatible with string, please explicitly cast to a compatible dtype first.\n  X.loc[:, column] = self.les[ind].transform(X[column])\n/tmp/ipykernel_34/785590100.py:37: FutureWarning: Setting an item of incompatible dtype is deprecated and will raise in a future error of pandas. Value '[5 5 5 ... 5 5 5]' has dtype incompatible with string, please explicitly cast to a compatible dtype first.\n  X.loc[:, column] = self.les[ind].transform(X[column])\n/tmp/ipykernel_34/785590100.py:37: FutureWarning: Setting an item of incompatible dtype is deprecated and will raise in a future error of pandas. Value '[16 16  0 ... 16 16  0]' has dtype incompatible with string, please explicitly cast to a compatible dtype first.\n  X.loc[:, column] = self.les[ind].transform(X[column])\n",
     "output_type": "stream"
    }
   ]
  },
  {
   "cell_type": "code",
   "source": [
    "test.loc[:, 'start_cluster'] = imputer.les[-1].transform(test['start_cluster']).astype(int)"
   ],
   "metadata": {
    "execution": {
     "iopub.status.busy": "2024-03-14T04:44:57.970827Z",
     "iopub.execute_input": "2024-03-14T04:44:57.971107Z",
     "iopub.status.idle": "2024-03-14T04:44:58.356414Z",
     "shell.execute_reply.started": "2024-03-14T04:44:57.971084Z",
     "shell.execute_reply": "2024-03-14T04:44:58.355504Z"
    },
    "trusted": true
   },
   "execution_count": 147,
   "outputs": []
  },
  {
   "cell_type": "code",
   "source": [
    "test['start_cluster'] = test['start_cluster'].astype(int)"
   ],
   "metadata": {
    "execution": {
     "iopub.status.busy": "2024-03-14T04:44:58.358745Z",
     "iopub.execute_input": "2024-03-14T04:44:58.359134Z",
     "iopub.status.idle": "2024-03-14T04:44:58.458974Z",
     "shell.execute_reply.started": "2024-03-14T04:44:58.359100Z",
     "shell.execute_reply": "2024-03-14T04:44:58.458120Z"
    },
    "trusted": true
   },
   "execution_count": 148,
   "outputs": []
  },
  {
   "cell_type": "code",
   "source": [
    "predictions = clf.predict(test)\n",
    "predictions = predictions / predictions.sum(axis=1).reshape(-1, 1)\n",
    "predictions = predictions.reshape((100000, 17, 17))\n",
    "predictions = get_final_proba(probs, predictions)"
   ],
   "metadata": {
    "execution": {
     "iopub.status.busy": "2024-03-14T04:45:01.098074Z",
     "iopub.execute_input": "2024-03-14T04:45:01.098817Z",
     "iopub.status.idle": "2024-03-14T04:46:56.144484Z",
     "shell.execute_reply.started": "2024-03-14T04:45:01.098786Z",
     "shell.execute_reply": "2024-03-14T04:46:56.143408Z"
    },
    "trusted": true
   },
   "execution_count": 149,
   "outputs": []
  },
  {
   "cell_type": "code",
   "source": [
    "sample_submission = get_sample_submission()\n",
    "assert sample_submission.columns.tolist() == ['id'] + clusters\n",
    "\n",
    "sample_submission.loc[:, clusters] = predictions\n",
    "\n",
    "sample_submission.to_csv('submission.csv', index=False)"
   ],
   "metadata": {
    "execution": {
     "iopub.status.busy": "2024-03-14T04:46:56.159313Z",
     "iopub.execute_input": "2024-03-14T04:46:56.159620Z",
     "iopub.status.idle": "2024-03-14T04:47:00.075032Z",
     "shell.execute_reply.started": "2024-03-14T04:46:56.159595Z",
     "shell.execute_reply": "2024-03-14T04:47:00.074142Z"
    },
    "trusted": true
   },
   "execution_count": 151,
   "outputs": []
  },
  {
   "cell_type": "code",
   "source": [
    "sample_submission.head()"
   ],
   "metadata": {
    "execution": {
     "iopub.status.busy": "2024-03-14T01:47:12.955592Z",
     "iopub.execute_input": "2024-03-14T01:47:12.955880Z",
     "iopub.status.idle": "2024-03-14T01:47:12.975719Z",
     "shell.execute_reply.started": "2024-03-14T01:47:12.955854Z",
     "shell.execute_reply": "2024-03-14T01:47:12.974703Z"
    },
    "trusted": true
   },
   "execution_count": 44,
   "outputs": [
    {
     "execution_count": 44,
     "output_type": "execute_result",
     "data": {
      "text/plain": "       id   {other}        {}    {α, β}    {α, γ}    {α, δ}  {α, ε, η}  \\\n0  200000  0.013394  0.009504  0.022087  0.029783  0.007132   0.000393   \n1  200001  0.007447  0.504575  0.000628  0.001795  0.000462   0.000128   \n2  200002  0.577468  0.005104  0.005103  0.130668  0.010659   0.001265   \n3  200003  0.031014  0.629658  0.000732  0.001709  0.000513   0.000751   \n4  200004  0.061991  0.228220  0.013942  0.038092  0.003518   0.002798   \n\n   {α, ε, θ}  {α, ε, ψ}    {α, ε}    {α, η}    {α, θ}    {α, λ}    {α, μ}  \\\n0   0.002276   0.000773  0.014474  0.004992  0.019094  0.000570  0.001962   \n1   0.000328   0.000024  0.001744  0.008590  0.001223  0.000297  0.001158   \n2   0.002723   0.009384  0.019038  0.006043  0.013294  0.009871  0.001987   \n3   0.000285   0.000057  0.001191  0.027887  0.002380  0.000066  0.001258   \n4   0.001412   0.000172  0.006334  0.089316  0.010204  0.000903  0.003924   \n\n     {α, π}    {α, ψ}       {α}       {λ}  \n0  0.000011  0.002971  0.870573  0.000010  \n1  0.000007  0.000540  0.470957  0.000098  \n2  0.000017  0.052434  0.154908  0.000034  \n3  0.000006  0.000385  0.302087  0.000021  \n4  0.000002  0.002423  0.536519  0.000230  ",
      "text/html": "<div>\n<style scoped>\n    .dataframe tbody tr th:only-of-type {\n        vertical-align: middle;\n    }\n\n    .dataframe tbody tr th {\n        vertical-align: top;\n    }\n\n    .dataframe thead th {\n        text-align: right;\n    }\n</style>\n<table border=\"1\" class=\"dataframe\">\n  <thead>\n    <tr style=\"text-align: right;\">\n      <th></th>\n      <th>id</th>\n      <th>{other}</th>\n      <th>{}</th>\n      <th>{α, β}</th>\n      <th>{α, γ}</th>\n      <th>{α, δ}</th>\n      <th>{α, ε, η}</th>\n      <th>{α, ε, θ}</th>\n      <th>{α, ε, ψ}</th>\n      <th>{α, ε}</th>\n      <th>{α, η}</th>\n      <th>{α, θ}</th>\n      <th>{α, λ}</th>\n      <th>{α, μ}</th>\n      <th>{α, π}</th>\n      <th>{α, ψ}</th>\n      <th>{α}</th>\n      <th>{λ}</th>\n    </tr>\n  </thead>\n  <tbody>\n    <tr>\n      <th>0</th>\n      <td>200000</td>\n      <td>0.013394</td>\n      <td>0.009504</td>\n      <td>0.022087</td>\n      <td>0.029783</td>\n      <td>0.007132</td>\n      <td>0.000393</td>\n      <td>0.002276</td>\n      <td>0.000773</td>\n      <td>0.014474</td>\n      <td>0.004992</td>\n      <td>0.019094</td>\n      <td>0.000570</td>\n      <td>0.001962</td>\n      <td>0.000011</td>\n      <td>0.002971</td>\n      <td>0.870573</td>\n      <td>0.000010</td>\n    </tr>\n    <tr>\n      <th>1</th>\n      <td>200001</td>\n      <td>0.007447</td>\n      <td>0.504575</td>\n      <td>0.000628</td>\n      <td>0.001795</td>\n      <td>0.000462</td>\n      <td>0.000128</td>\n      <td>0.000328</td>\n      <td>0.000024</td>\n      <td>0.001744</td>\n      <td>0.008590</td>\n      <td>0.001223</td>\n      <td>0.000297</td>\n      <td>0.001158</td>\n      <td>0.000007</td>\n      <td>0.000540</td>\n      <td>0.470957</td>\n      <td>0.000098</td>\n    </tr>\n    <tr>\n      <th>2</th>\n      <td>200002</td>\n      <td>0.577468</td>\n      <td>0.005104</td>\n      <td>0.005103</td>\n      <td>0.130668</td>\n      <td>0.010659</td>\n      <td>0.001265</td>\n      <td>0.002723</td>\n      <td>0.009384</td>\n      <td>0.019038</td>\n      <td>0.006043</td>\n      <td>0.013294</td>\n      <td>0.009871</td>\n      <td>0.001987</td>\n      <td>0.000017</td>\n      <td>0.052434</td>\n      <td>0.154908</td>\n      <td>0.000034</td>\n    </tr>\n    <tr>\n      <th>3</th>\n      <td>200003</td>\n      <td>0.031014</td>\n      <td>0.629658</td>\n      <td>0.000732</td>\n      <td>0.001709</td>\n      <td>0.000513</td>\n      <td>0.000751</td>\n      <td>0.000285</td>\n      <td>0.000057</td>\n      <td>0.001191</td>\n      <td>0.027887</td>\n      <td>0.002380</td>\n      <td>0.000066</td>\n      <td>0.001258</td>\n      <td>0.000006</td>\n      <td>0.000385</td>\n      <td>0.302087</td>\n      <td>0.000021</td>\n    </tr>\n    <tr>\n      <th>4</th>\n      <td>200004</td>\n      <td>0.061991</td>\n      <td>0.228220</td>\n      <td>0.013942</td>\n      <td>0.038092</td>\n      <td>0.003518</td>\n      <td>0.002798</td>\n      <td>0.001412</td>\n      <td>0.000172</td>\n      <td>0.006334</td>\n      <td>0.089316</td>\n      <td>0.010204</td>\n      <td>0.000903</td>\n      <td>0.003924</td>\n      <td>0.000002</td>\n      <td>0.002423</td>\n      <td>0.536519</td>\n      <td>0.000230</td>\n    </tr>\n  </tbody>\n</table>\n</div>"
     },
     "metadata": {}
    }
   ]
  }
 ]
}
